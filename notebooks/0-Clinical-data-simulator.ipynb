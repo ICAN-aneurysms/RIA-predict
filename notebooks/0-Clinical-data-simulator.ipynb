{
 "cells": [
  {
   "cell_type": "markdown",
   "metadata": {},
   "source": [
    "# ICAN clinical data simualtion \n",
    "\n",
    "**Objective:** sharing synthetic data in the context of the ICAN project to reproduce methods and graphics used in the paper.\n",
    "\n",
    "In this notebook, we generate random values with probability distribtions close to the real ICAN dataset."
   ]
  },
  {
   "cell_type": "markdown",
   "metadata": {},
   "source": [
    "## Packages importation"
   ]
  },
  {
   "cell_type": "code",
   "execution_count": 1,
   "metadata": {},
   "outputs": [],
   "source": [
    "import pandas as pd\n",
    "import numpy as np\n",
    "import matplotlib.pyplot as plt\n",
    "from scipy.stats import skewnorm"
   ]
  },
  {
   "cell_type": "markdown",
   "metadata": {},
   "source": [
    "## Clinical data simulation"
   ]
  },
  {
   "cell_type": "code",
   "execution_count": 2,
   "metadata": {},
   "outputs": [],
   "source": [
    "FEATURES = [\"rupture\", \"sex\", \"age\", \"bmi\", \"sporadic_case\", \"multiple_IA\", \"IA_location\", \"adjusted_size_ratio\", \n",
    "            \"tobacco\", \"alcohol\", \"hta\", \"headaches\", \"diabetes\", \"dyslipidemia\", \"ischemic_stroke_history\", \n",
    "            \"ischemic_heart_disease_history\", \"pad_history\", \"carotid_artery_stenosis_history\", \"aortic_aneurysm_history\", \n",
    "            \"statin_ttt\", \"platelet_aggregation_inhibiting_ttt\", \"vka_or_anticoagulant_ttt\", \"anti_inflammatory_ttt\", \n",
    "            \"hormone_therapy_ttt\", \"allergy\", \"asthma\", \"atopy\", \"eczema\"] "
   ]
  },
  {
   "cell_type": "code",
   "execution_count": 3,
   "metadata": {},
   "outputs": [],
   "source": [
    "def yes_no_var(percentage_yes, nb_samples) :\n",
    "    return np.random.choice(['Yes', 'No'], nb_samples, p=[percentage_yes, 1-percentage_yes])"
   ]
  },
  {
   "cell_type": "code",
   "execution_count": 4,
   "metadata": {},
   "outputs": [],
   "source": [
    "np.random.seed(111)\n",
    "df = pd.DataFrame()\n",
    "nb_samples = 2505\n",
    "nb_choice = 5000\n",
    "\n",
    "for f in FEATURES :\n",
    "    if \"rupture\" in f:\n",
    "        df[f] = yes_no_var(0.397, nb_samples)\n",
    "    \n",
    "    if 'sex' in f:\n",
    "        var = np.repeat(None, nb_samples)\n",
    "        var[df[df.rupture == \"Yes\"].index] = np.random.choice(['M', 'F'], len(df[df.rupture == \"Yes\"]), p=[0.30, 0.70])\n",
    "        var[df[df.rupture == \"No\"].index] = np.random.choice(['M', 'F'], len(df[df.rupture == \"No\"]), p=[0.27, 0.73])\n",
    "        df[f] = var\n",
    "        \n",
    "    if 'age' in f:\n",
    "        var = np.repeat(None, nb_samples)\n",
    "        mean = 50.3 ; sd = 12.1 ; min_val = 18 ; max_val = 87\n",
    "        random_nb = np.random.normal(loc = mean, scale = sd, size = nb_choice).astype(int)\n",
    "        random_nb = random_nb[np.where((random_nb >= min_val)&(random_nb <= max_val))]\n",
    "        var[df[df.rupture == \"Yes\"].index] = np.random.choice(random_nb, size = len(df[df.rupture == \"Yes\"]))\n",
    "        mean = 55.8 ; sd = 11.9 ; min_val = 20 ; max_val = 85\n",
    "        random_nb = np.random.normal(loc = mean, scale = sd, size = nb_choice).astype(int)\n",
    "        random_nb_No = random_nb[np.where((random_nb >= min_val)&(random_nb <= max_val))]\n",
    "        var[df[df.rupture == \"No\"].index] = np.random.choice(random_nb, size = len(df[df.rupture == \"No\"]))\n",
    "        df[f] = var\n",
    "        \n",
    "    if 'bmi' in f:\n",
    "        select_indiv = []\n",
    "        mean = 25.4 ; sd = 4.8 ; min_val = 15.6 ; max_val = 54.8\n",
    "        random_nb = np.random.normal(loc = mean, scale = sd, size = nb_choice).astype(int)\n",
    "        random_nb2 = random_nb[np.where((random_nb >= min_val)&(random_nb <= max_val))]\n",
    "        df[f] = np.random.choice(random_nb2, size = nb_samples)\n",
    "        \n",
    "    if 'sporadic_case' in f:\n",
    "        var = np.repeat(None, nb_samples)\n",
    "        var[df[df.rupture == \"Yes\"].index] = yes_no_var(0.84, len(df[df.rupture == \"Yes\"]))\n",
    "        var[df[df.rupture == \"No\"].index] = yes_no_var(0.81, len(df[df.rupture == \"No\"]))\n",
    "        df[f] = var\n",
    "        \n",
    "    if 'multiple_IA' in f:\n",
    "        var = np.repeat(None, nb_samples)\n",
    "        var[df[df.rupture == \"Yes\"].index] = yes_no_var(0.34, len(df[df.rupture == \"Yes\"]))\n",
    "        var[df[df.rupture == \"No\"].index] = yes_no_var(0.30, len(df[df.rupture == \"No\"]))\n",
    "        df[f] = var\n",
    "        \n",
    "    if \"IA_location\" in f:\n",
    "        var = np.repeat(None, nb_samples)\n",
    "        var[df[df.rupture == \"Yes\"].index] = np.random.choice(['ICA', 'MCA', 'ACA', 'PCA'], len(df[df.rupture == \"Yes\"]), p=[0.12, 0.23, 0.39, 0.26])\n",
    "        var[df[df.rupture == \"No\"].index] = np.random.choice(['ICA', 'MCA', 'ACA', 'PCA'], len(df[df.rupture == \"No\"]), p=[0.33, 0.29, 0.24, 0.14])\n",
    "        df[f] = var\n",
    "        \n",
    "    if 'adjusted_size_ratio' in f:\n",
    "        select_indiv = []\n",
    "        a = 2.27 ; loc = 0.97 ; scale = 1.29\n",
    "        random_nb = skewnorm.rvs(a, loc, scale, size = nb_choice).round(decimals = 2)\n",
    "        random_nb = random_nb[np.where(random_nb >=0.25)]\n",
    "        size_ICA = np.random.choice(random_nb, size = len(df[df[\"IA_location\"] == \"ICA\"]))\n",
    "\n",
    "        select_indiv = []\n",
    "        a = 2.88 ; loc = 1.17 ; scale = 1.44\n",
    "        random_nb = skewnorm.rvs(a, loc, scale, size = nb_choice).round(decimals = 2)\n",
    "        random_nb = random_nb[np.where(random_nb >=0.33)]\n",
    "        size_MCA = np.random.choice(random_nb, size = len(df[df[\"IA_location\"] == \"MCA\"]))\n",
    "\n",
    "        select_indiv = []\n",
    "        a = 7.52 ; loc = 3.05 ; scale = 4.04\n",
    "        random_nb = skewnorm.rvs(a, loc, scale, size = nb_choice).round(decimals = 2)\n",
    "        random_nb = random_nb[np.where(random_nb >=1)]\n",
    "        size_ACA = np.random.choice(random_nb, size = len(df[df[\"IA_location\"] == \"ACA\"]))\n",
    "\n",
    "        select_indiv = []\n",
    "        a = 2.34 ; loc = 2.48 ; scale = 3.56\n",
    "        random_nb = skewnorm.rvs(a, loc, scale, size = nb_choice).round(decimals = 2)\n",
    "        random_nb = random_nb[np.where(random_nb >=0.66)]\n",
    "        size_PCA = np.random.choice(random_nb, size = len(df[df[\"IA_location\"] == \"PCA\"]))\n",
    "\n",
    "        size = np.repeat(-1.11, nb_samples)\n",
    "        size[df[df[\"IA_location\"] == \"ICA\"].index] = size_ICA\n",
    "        size[df[df[\"IA_location\"] == \"MCA\"].index] = size_MCA\n",
    "        size[df[df[\"IA_location\"] == \"ACA\"].index] = size_ACA\n",
    "        size[df[df[\"IA_location\"] == \"PCA\"].index] = size_PCA\n",
    "        df[f] = size\n",
    "        \n",
    "    if \"tobacco\" in f:\n",
    "        var = np.repeat(None, nb_samples)\n",
    "        var[df[df.rupture == \"Yes\"].index] = np.random.choice(['Non-smoker', 'Minor_smoker', 'Regular_smoker'], len(df[df.rupture == \"Yes\"]), p=[0.29, 0.46, 0.25])\n",
    "        var[df[df.rupture == \"No\"].index] = np.random.choice(['Non-smoker', 'Minor_smoker', 'Regular_smoker'], len(df[df.rupture == \"No\"]), p=[0.29, 0.42, 0.29])\n",
    "        df[f] = var\n",
    "    \n",
    "    if \"alcohol\" in f:\n",
    "        var = np.repeat(None, nb_samples)\n",
    "        var[df[df.rupture == \"Yes\"].index] = np.random.choice(['< 150g', '> 150g'], len(df[df.rupture == \"Yes\"]), p=[0.87, 0.13])\n",
    "        var[df[df.rupture == \"No\"].index] = np.random.choice(['< 150g', '> 150g'], len(df[df.rupture == \"No\"]), p=[0.89, 0.11])\n",
    "        df[f] = var\n",
    "        \n",
    "    if \"hta\" in f:\n",
    "        var = np.repeat(None, nb_samples)\n",
    "        var[df[df.rupture == \"Yes\"].index] = yes_no_var(0.36, len(df[df.rupture == \"Yes\"]))\n",
    "        var[df[df.rupture == \"No\"].index] = yes_no_var(0.38, len(df[df.rupture == \"No\"]))\n",
    "        df[f] = var\n",
    "        \n",
    "    if \"headaches\" in f:\n",
    "        var = np.repeat(None, nb_samples)\n",
    "        var[df[(df.rupture == \"Yes\")&(df.hta == \"Yes\")].index] = yes_no_var(0.15, len(df[(df.rupture == \"Yes\")&(df.hta == \"Yes\")]))\n",
    "        var[df[(df.rupture == \"Yes\")&(df.hta == \"No\")].index] = yes_no_var(0.15, len(df[(df.rupture == \"Yes\")&(df.hta == \"No\")]))\n",
    "        var[df[(df.rupture == \"No\")&(df.hta == \"Yes\")].index] = yes_no_var(0.13, len(df[(df.rupture == \"No\")&(df.hta == \"Yes\")]))\n",
    "        var[df[(df.rupture == \"No\")&(df.hta == \"No\")].index] = yes_no_var(0.22, len(df[(df.rupture == \"No\")&(df.hta == \"No\")]))\n",
    "        df[f] = var\n",
    "        \n",
    "    if \"diabetes\" in f:\n",
    "        var = np.repeat(None, nb_samples)\n",
    "        var[df[(df.rupture == \"Yes\")&(df.hta == \"Yes\")].index] = yes_no_var(0.06, len(df[(df.rupture == \"Yes\")&(df.hta == \"Yes\")]))\n",
    "        var[df[(df.rupture == \"Yes\")&(df.hta == \"No\")].index] = yes_no_var(0.02, len(df[(df.rupture == \"Yes\")&(df.hta == \"No\")]))\n",
    "        var[df[(df.rupture == \"No\")&(df.hta == \"Yes\")].index] = yes_no_var(0.10, len(df[(df.rupture == \"No\")&(df.hta == \"Yes\")]))\n",
    "        var[df[(df.rupture == \"No\")&(df.hta == \"No\")].index] = yes_no_var(0.02, len(df[(df.rupture == \"No\")&(df.hta == \"No\")]))\n",
    "        df[f] = var\n",
    "        \n",
    "    if \"dyslipidemia\" in f:\n",
    "        var = np.repeat(None, nb_samples)\n",
    "        var[df[(df.rupture == \"Yes\")&(df.hta == \"Yes\")].index] = yes_no_var(0.30, len(df[(df.rupture == \"Yes\")&(df.hta == \"Yes\")]))\n",
    "        var[df[(df.rupture == \"Yes\")&(df.hta == \"No\")].index] = yes_no_var(0.12, len(df[(df.rupture == \"Yes\")&(df.hta == \"No\")]))\n",
    "        var[df[(df.rupture == \"No\")&(df.hta == \"Yes\")].index] = yes_no_var(0.40, len(df[(df.rupture == \"No\")&(df.hta == \"Yes\")]))\n",
    "        var[df[(df.rupture == \"No\")&(df.hta == \"No\")].index] = yes_no_var(0.16, len(df[(df.rupture == \"No\")&(df.hta == \"No\")]))\n",
    "        df[f] = var\n",
    "    \n",
    "    if \"ischemic_stroke_history\" in f:\n",
    "        var = np.repeat(None, nb_samples)\n",
    "        var[df[(df.rupture == \"Yes\")&(df.dyslipidemia == \"Yes\")].index] = yes_no_var(0.08, len(df[(df.rupture == \"Yes\")&(df.dyslipidemia == \"Yes\")]))\n",
    "        var[df[(df.rupture == \"Yes\")&(df.dyslipidemia == \"No\")].index] = yes_no_var(0.02, len(df[(df.rupture == \"Yes\")&(df.dyslipidemia == \"No\")]))\n",
    "        var[df[(df.rupture == \"No\")&(df.dyslipidemia == \"Yes\")].index] = yes_no_var(0.20, len(df[(df.rupture == \"No\")&(df.dyslipidemia == \"Yes\")]))\n",
    "        var[df[(df.rupture == \"No\")&(df.dyslipidemia == \"No\")].index] = yes_no_var(0.07, len(df[(df.rupture == \"No\")&(df.dyslipidemia == \"No\")]))\n",
    "        df[f] = var\n",
    "        \n",
    "    if \"ischemic_heart_disease_history\" in f:\n",
    "        var = np.repeat(None, nb_samples)\n",
    "        var[df[(df.rupture == \"Yes\")&(df.ischemic_stroke_history == \"Yes\")].index] = yes_no_var(0.09, len(df[(df.rupture == \"Yes\")&(df.ischemic_stroke_history == \"Yes\")]))\n",
    "        var[df[(df.rupture == \"Yes\")&(df.ischemic_stroke_history == \"No\")].index] = yes_no_var(0.01, len(df[(df.rupture == \"Yes\")&(df.ischemic_stroke_history == \"No\")]))\n",
    "        var[df[(df.rupture == \"No\")&(df.ischemic_stroke_history == \"Yes\")].index] = yes_no_var(0.12, len(df[(df.rupture == \"No\")&(df.ischemic_stroke_history == \"Yes\")]))\n",
    "        var[df[(df.rupture == \"No\")&(df.ischemic_stroke_history == \"No\")].index] = yes_no_var(0.04, len(df[(df.rupture == \"No\")&(df.ischemic_stroke_history == \"No\")]))\n",
    "        df[f] = var\n",
    "        \n",
    "    if \"pad_history\" in f:\n",
    "        var = np.repeat(None, nb_samples)\n",
    "        var[df[(df.rupture == \"Yes\")&(df.ischemic_heart_disease_history == \"Yes\")].index] = yes_no_var(0.33, len(df[(df.rupture == \"Yes\")&(df.ischemic_heart_disease_history == \"Yes\")]))\n",
    "        var[df[(df.rupture == \"Yes\")&(df.ischemic_heart_disease_history == \"No\")].index] = yes_no_var(0.01, len(df[(df.rupture == \"Yes\")&(df.ischemic_heart_disease_history == \"No\")]))\n",
    "        var[df[(df.rupture == \"No\")&(df.ischemic_heart_disease_history == \"Yes\")].index] = yes_no_var(0.16, len(df[(df.rupture == \"No\")&(df.ischemic_heart_disease_history == \"Yes\")]))\n",
    "        var[df[(df.rupture == \"No\")&(df.ischemic_heart_disease_history == \"No\")].index] = yes_no_var(0.02, len(df[(df.rupture == \"No\")&(df.ischemic_heart_disease_history == \"No\")]))\n",
    "        df[f] = var\n",
    "        \n",
    "    if \"carotid_artery_stenosis_history\" in f:\n",
    "        df[f] = yes_no_var(0.03, nb_samples)\n",
    "        \n",
    "    if 'aortic_aneurysm_history' in f:\n",
    "        df[f] = yes_no_var(0.005, nb_samples)\n",
    "        \n",
    "    if \"statin_ttt\" in f:\n",
    "        var = np.repeat(None, nb_samples)\n",
    "        var[df[(df.rupture == \"Yes\")&(df.dyslipidemia == \"Yes\")].index] = yes_no_var(0.46, len(df[(df.rupture == \"Yes\")&(df.dyslipidemia == \"Yes\")]))\n",
    "        var[df[(df.rupture == \"Yes\")&(df.dyslipidemia == \"No\")].index] = yes_no_var(0.01, len(df[(df.rupture == \"Yes\")&(df.dyslipidemia == \"No\")]))\n",
    "        var[df[(df.rupture == \"No\")&(df.dyslipidemia == \"Yes\")].index] = yes_no_var(0.39, len(df[(df.rupture == \"No\")&(df.dyslipidemia == \"Yes\")]))\n",
    "        var[df[(df.rupture == \"No\")&(df.dyslipidemia == \"No\")].index] = yes_no_var(0.03, len(df[(df.rupture == \"No\")&(df.dyslipidemia == \"No\")]))\n",
    "        df[f] = var\n",
    "        \n",
    "    if \"platelet_aggregation_inhibiting_ttt\" in f:\n",
    "        var = np.repeat(None, nb_samples)\n",
    "        var[df[(df.rupture == \"Yes\")&(df.ischemic_heart_disease_history == \"Yes\")].index] = yes_no_var(0.5, len(df[(df.rupture == \"Yes\")&(df.ischemic_heart_disease_history == \"Yes\")]))\n",
    "        var[df[(df.rupture == \"Yes\")&(df.ischemic_heart_disease_history == \"No\")].index] = yes_no_var(0.09, len(df[(df.rupture == \"Yes\")&(df.ischemic_heart_disease_history == \"No\")]))\n",
    "        var[df[(df.rupture == \"No\")&(df.ischemic_heart_disease_history == \"Yes\")].index] = yes_no_var(0.24, len(df[(df.rupture == \"No\")&(df.ischemic_heart_disease_history == \"Yes\")]))\n",
    "        var[df[(df.rupture == \"No\")&(df.ischemic_heart_disease_history == \"No\")].index] = yes_no_var(0.13, len(df[(df.rupture == \"No\")&(df.ischemic_heart_disease_history == \"No\")]))\n",
    "        df[f] = var\n",
    "        \n",
    "    if \"vka_or_anticoagulant_ttt\" in f:\n",
    "        df[f] = yes_no_var(0.03, nb_samples)\n",
    "        \n",
    "    if \"anti_inflammatory_ttt\" in f:\n",
    "        df[f] = yes_no_var(0.03, nb_samples)\n",
    "        \n",
    "    if 'hormone_therapy_ttt' in f:\n",
    "        var = np.repeat(None, nb_samples)\n",
    "        var[df[df.rupture == \"Yes\"].index] = yes_no_var(0.02, len(df[df.rupture == \"Yes\"]))\n",
    "        var[df[df.rupture == \"No\"].index] = yes_no_var(0.04, len(df[df.rupture == \"No\"]))\n",
    "        df[f] = var\n",
    "    \n",
    "    if \"allergy\" in f:\n",
    "        var = np.repeat(None, nb_samples)\n",
    "        var[df[df.rupture == \"Yes\"].index] = yes_no_var(0.20, len(df[df.rupture == \"Yes\"]))\n",
    "        var[df[df.rupture == \"No\"].index] = yes_no_var(0.25, len(df[df.rupture == \"No\"]))\n",
    "        df[f] = var\n",
    "        \n",
    "    if \"asthma\" in f:\n",
    "        var = np.repeat(None, nb_samples)\n",
    "        var[df[(df.rupture == \"Yes\")&(df.allergy == \"Yes\")].index] = yes_no_var(0.16, len(df[(df.rupture == \"Yes\")&(df.allergy == \"Yes\")]))\n",
    "        var[df[(df.rupture == \"Yes\")&(df.allergy == \"No\")].index] = yes_no_var(0.03, len(df[(df.rupture == \"Yes\")&(df.allergy == \"No\")]))\n",
    "        var[df[(df.rupture == \"No\")&(df.allergy == \"Yes\")].index] = yes_no_var(0.18, len(df[(df.rupture == \"No\")&(df.allergy == \"Yes\")]))\n",
    "        var[df[(df.rupture == \"No\")&(df.allergy == \"No\")].index] = yes_no_var(0.04, len(df[(df.rupture == \"No\")&(df.allergy == \"No\")]))\n",
    "        df[f] = var\n",
    "        \n",
    "    if \"atopy\" in f:\n",
    "        var = np.repeat(None, nb_samples)\n",
    "        var[df[(df.rupture == \"Yes\")&(df.allergy == \"Yes\")].index] = yes_no_var(0.15, len(df[(df.rupture == \"Yes\")&(df.allergy == \"Yes\")]))\n",
    "        var[df[(df.rupture == \"Yes\")&(df.allergy == \"No\")].index] = yes_no_var(0.02, len(df[(df.rupture == \"Yes\")&(df.allergy == \"No\")]))\n",
    "        var[df[(df.rupture == \"No\")&(df.allergy == \"Yes\")].index] = yes_no_var(0.14, len(df[(df.rupture == \"No\")&(df.allergy == \"Yes\")]))\n",
    "        var[df[(df.rupture == \"No\")&(df.allergy == \"No\")].index] = yes_no_var(0.03, len(df[(df.rupture == \"No\")&(df.allergy == \"No\")]))\n",
    "        df[f] = var\n",
    "        \n",
    "    if \"eczema\" in f:\n",
    "        var = np.repeat(None, nb_samples)\n",
    "        var[df[(df.rupture == \"Yes\")&(df.allergy == \"Yes\")].index] = yes_no_var(0.13, len(df[(df.rupture == \"Yes\")&(df.allergy == \"Yes\")]))\n",
    "        var[df[(df.rupture == \"Yes\")&(df.allergy == \"No\")].index] = yes_no_var(0.04, len(df[(df.rupture == \"Yes\")&(df.allergy == \"No\")]))\n",
    "        var[df[(df.rupture == \"No\")&(df.allergy == \"Yes\")].index] = yes_no_var(0.13, len(df[(df.rupture == \"No\")&(df.allergy == \"Yes\")]))\n",
    "        var[df[(df.rupture == \"No\")&(df.allergy == \"No\")].index] = yes_no_var(0.04, len(df[(df.rupture == \"No\")&(df.allergy == \"No\")]))\n",
    "        df[f] = var"
   ]
  },
  {
   "cell_type": "code",
   "execution_count": 5,
   "metadata": {},
   "outputs": [],
   "source": [
    "rupture = df.rupture\n",
    "df = df.drop(\"rupture\", axis = 1)\n",
    "df[\"rupture\"] = rupture"
   ]
  },
  {
   "cell_type": "markdown",
   "metadata": {},
   "source": [
    "## Export to a tabular CSV file"
   ]
  },
  {
   "cell_type": "code",
   "execution_count": 6,
   "metadata": {},
   "outputs": [],
   "source": [
    "df.to_csv('simulated_ican_clinical_data.csv', encoding='utf8', sep = \"#\", index = False)   "
   ]
  },
  {
   "cell_type": "markdown",
   "metadata": {},
   "source": [
    "## Histogram examples"
   ]
  },
  {
   "cell_type": "code",
   "execution_count": 7,
   "metadata": {},
   "outputs": [
    {
     "data": {
      "image/png": "[encoded data removed]",
      "text/plain": [
       "<Figure size 432x288 with 1 Axes>"
      ]
     },
     "metadata": {
      "needs_background": "light"
     },
     "output_type": "display_data"
    }
   ],
   "source": [
    "plt.hist(df[\"age\"], edgecolor = \"black\", bins = np.arange(18, 87));"
   ]
  },
  {
   "cell_type": "code",
   "execution_count": 8,
   "metadata": {},
   "outputs": [
    {
     "data": {
      "image/png": "[encoded data removed]",
      "text/plain": [
       "<Figure size 432x288 with 1 Axes>"
      ]
     },
     "metadata": {
      "needs_background": "light"
     },
     "output_type": "display_data"
    }
   ],
   "source": [
    "plt.hist(df[\"adjusted_size_ratio\"], edgecolor = \"black\", bins = np.arange(0, 14));"
   ]
  }
 ],
 "metadata": {
  "kernelspec": {
   "display_name": "Python 3",
   "language": "python",
   "name": "python3"
  },
  "language_info": {
   "codemirror_mode": {
    "name": "ipython",
    "version": 3
   },
   "file_extension": ".py",
   "mimetype": "text/x-python",
   "name": "python",
   "nbconvert_exporter": "python",
   "pygments_lexer": "ipython3",
   "version": "3.7.4"
  }
 },
 "nbformat": 4,
 "nbformat_minor": 2
}
