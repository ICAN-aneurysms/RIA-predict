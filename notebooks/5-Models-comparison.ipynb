{
 "cells": [
  {
   "cell_type": "markdown",
   "metadata": {},
   "source": [
    "# Models comparison\n",
    "\n",
    "**Objective:** compare logistic regression model, random forest model and the PHASES score."
   ]
  },
  {
   "cell_type": "markdown",
   "metadata": {},
   "source": [
    "## Library importation"
   ]
  },
  {
   "cell_type": "code",
   "execution_count": 1,
   "metadata": {
    "scrolled": true
   },
   "outputs": [
    {
     "name": "stderr",
     "output_type": "stream",
     "text": [
      "Loading required package: gplots\n",
      "\n",
      "\n",
      "Attaching package: 'gplots'\n",
      "\n",
      "\n",
      "The following object is masked from 'package:stats':\n",
      "\n",
      "    lowess\n",
      "\n",
      "\n",
      "randomForest 4.6-14\n",
      "\n",
      "Type rfNews() to see new features/changes/bug fixes.\n",
      "\n",
      "\n",
      "Attaching package: 'pls'\n",
      "\n",
      "\n",
      "The following object is masked from 'package:stats':\n",
      "\n",
      "    loadings\n",
      "\n",
      "\n",
      "\n",
      "Attaching package: 'ggplot2'\n",
      "\n",
      "\n",
      "The following object is masked from 'package:randomForest':\n",
      "\n",
      "    margin\n",
      "\n",
      "\n",
      "\n",
      "Attaching package: 'dplyr'\n",
      "\n",
      "\n",
      "The following object is masked from 'package:randomForest':\n",
      "\n",
      "    combine\n",
      "\n",
      "\n",
      "The following objects are masked from 'package:stats':\n",
      "\n",
      "    filter, lag\n",
      "\n",
      "\n",
      "The following objects are masked from 'package:base':\n",
      "\n",
      "    intersect, setdiff, setequal, union\n",
      "\n",
      "\n",
      "-- \u001b[1mAttaching packages\u001b[22m --------------------------------------- tidyverse 1.2.1 --\n",
      "\n",
      "\u001b[32mv\u001b[39m \u001b[34mtibble \u001b[39m 2.1.3     \u001b[32mv\u001b[39m \u001b[34mpurrr  \u001b[39m 0.3.3\n",
      "\u001b[32mv\u001b[39m \u001b[34mtidyr  \u001b[39m 1.0.0     \u001b[32mv\u001b[39m \u001b[34mstringr\u001b[39m 1.4.0\n",
      "\u001b[32mv\u001b[39m \u001b[34mreadr  \u001b[39m 1.3.1     \u001b[32mv\u001b[39m \u001b[34mforcats\u001b[39m 0.4.0\n",
      "\n",
      "-- \u001b[1mConflicts\u001b[22m ------------------------------------------ tidyverse_conflicts() --\n",
      "\u001b[31mx\u001b[39m \u001b[34mdplyr\u001b[39m::\u001b[32mcombine()\u001b[39m  masks \u001b[34mrandomForest\u001b[39m::combine()\n",
      "\u001b[31mx\u001b[39m \u001b[34mdplyr\u001b[39m::\u001b[32mfilter()\u001b[39m   masks \u001b[34mstats\u001b[39m::filter()\n",
      "\u001b[31mx\u001b[39m \u001b[34mdplyr\u001b[39m::\u001b[32mlag()\u001b[39m      masks \u001b[34mstats\u001b[39m::lag()\n",
      "\u001b[31mx\u001b[39m \u001b[34mggplot2\u001b[39m::\u001b[32mmargin()\u001b[39m masks \u001b[34mrandomForest\u001b[39m::margin()\n",
      "\n"
     ]
    }
   ],
   "source": [
    "library(ROCR)\n",
    "library(randomForest)\n",
    "library(pls)\n",
    "library(ggplot2)\n",
    "library(dplyr)\n",
    "library(tidyverse)"
   ]
  },
  {
   "cell_type": "markdown",
   "metadata": {},
   "source": [
    "## Data loading"
   ]
  },
  {
   "cell_type": "code",
   "execution_count": 2,
   "metadata": {},
   "outputs": [
    {
     "data": {
      "text/html": [
       "<ol class=list-inline>\n",
       "\t<li>2505</li>\n",
       "\t<li>29</li>\n",
       "</ol>\n"
      ],
      "text/latex": [
       "\\begin{enumerate*}\n",
       "\\item 2505\n",
       "\\item 29\n",
       "\\end{enumerate*}\n"
      ],
      "text/markdown": [
       "1. 2505\n",
       "2. 29\n",
       "\n",
       "\n"
      ],
      "text/plain": [
       "[1] 2505   29"
      ]
     },
     "metadata": {},
     "output_type": "display_data"
    }
   ],
   "source": [
    "ican <- read.csv(\"simulated_ican_clinical_data.csv\", sep = \"#\", encoding = \"utf8\")\n",
    "dim(ican)\n",
    "set.seed(123)"
   ]
  },
  {
   "cell_type": "code",
   "execution_count": 3,
   "metadata": {},
   "outputs": [],
   "source": [
    "adjusted_IA_size_class <- c()\n",
    "for (i in 1:dim(ican)[1]) {\n",
    "    if (ican$adjusted_IA_size[i] < 3) {\n",
    "        adjusted_IA_size_class[i] <- \"<3\"\n",
    "    } else if (ican$adjusted_IA_size[i] >= 3) {\n",
    "        adjusted_IA_size_class[i] <- \">=3\"\n",
    "    } else {\n",
    "        adjusted_IA_size_class[i] <- \"Other\"\n",
    "    }\n",
    "}\n",
    "ican[\"adjusted_IA_size\"] <- as.factor(adjusted_IA_size_class)"
   ]
  },
  {
   "cell_type": "code",
   "execution_count": 4,
   "metadata": {},
   "outputs": [],
   "source": [
    "age_class <- c()\n",
    "for (i in 1:dim(ican)[1]) {\n",
    "    if (ican$age[i] < 50) {\n",
    "        age_class[i] <- \"<50\"\n",
    "    } else if (ican$age[i] < 60) {\n",
    "        age_class[i] <- \"50-59\"\n",
    "    } else if (ican$age[i] < 70) {\n",
    "        age_class[i] <- \"60-69\"\n",
    "    } else if (ican$age[i] >= 70) {\n",
    "        age_class[i] <- \">=70\"\n",
    "    } else {\n",
    "        age_class[i] <- \"Other\"\n",
    "    }\n",
    "}\n",
    "ican[\"age\"] <- as.factor(age_class)"
   ]
  },
  {
   "cell_type": "code",
   "execution_count": 5,
   "metadata": {},
   "outputs": [],
   "source": [
    "ican_LR <- ican[,-dim(ican)[2]]\n",
    "ican_RF <- ican[,-dim(ican)[2]]"
   ]
  },
  {
   "cell_type": "code",
   "execution_count": 6,
   "metadata": {},
   "outputs": [],
   "source": [
    "bmi_class <- c()\n",
    "for (i in 1:dim(ican)[1]) {\n",
    "    if (ican$bmi[i] < 20) {\n",
    "        bmi_class[i] <- \"<20\"\n",
    "    } else if (ican$bmi[i] < 25) {\n",
    "        bmi_class[i] <- \"20-25\"\n",
    "    } else if (ican$bmi[i] < 30) {\n",
    "        bmi_class[i] <- \"25-30\"\n",
    "    } else if (ican$bmi[i] >= 30) {\n",
    "        bmi_class[i] <- \">=30\"\n",
    "    } else {\n",
    "        bmi_class[i] <- \"Other\"\n",
    "    }\n",
    "}\n",
    "ican_RF[\"bmi\"] <- as.factor(bmi_class)"
   ]
  },
  {
   "cell_type": "markdown",
   "metadata": {},
   "source": [
    "## Train / Test"
   ]
  },
  {
   "cell_type": "code",
   "execution_count": 7,
   "metadata": {},
   "outputs": [],
   "source": [
    "cut <- cvsegments(N = nrow(ican), k = 10)"
   ]
  },
  {
   "cell_type": "markdown",
   "metadata": {},
   "source": [
    "## PHASES score"
   ]
  },
  {
   "cell_type": "code",
   "execution_count": 8,
   "metadata": {},
   "outputs": [],
   "source": [
    "nmax = max(ican$PHASES_score)\n",
    "tpr_phases = 1:(nmax+2)\n",
    "fpr_phases = 1:(nmax+2)\n",
    "tpr_phases[nmax+2] = 0\n",
    "fpr_phases[nmax+2] = 0\n",
    "for(i in 1:nmax){\n",
    "    cm = table(ican$rupture, ican$PHASES_score >= i)\n",
    "    tpr_phases[i+1] = cm[2,2]/length(which(ican$rupture == \"Yes\"))\n",
    "    fpr_phases[i+1] = cm[1,2]/length(which(ican$rupture == \"No\"))\n",
    "}"
   ]
  },
  {
   "cell_type": "code",
   "execution_count": 9,
   "metadata": {},
   "outputs": [],
   "source": [
    "div_score <- ican$PHASES_score / 16"
   ]
  },
  {
   "cell_type": "code",
   "execution_count": 10,
   "metadata": {},
   "outputs": [
    {
     "name": "stdout",
     "output_type": "stream",
     "text": [
      "[1] \"AUC PHASES score = 0.5\"\n"
     ]
    }
   ],
   "source": [
    "prediction_obj <- prediction(div_score, ican$rupture)\n",
    "perf <- performance(prediction_obj, measure = \"auc\")\n",
    "print(paste(\"AUC PHASES score =\", round(perf@y.values[[1]], 2)))"
   ]
  },
  {
   "cell_type": "markdown",
   "metadata": {},
   "source": [
    "## Multivariables Logistic Regression"
   ]
  },
  {
   "cell_type": "code",
   "execution_count": 11,
   "metadata": {},
   "outputs": [],
   "source": [
    "val_auc_LR <- 1:10\n",
    "x_values_roc_LR <- matrix(nrow = 10, ncol = 252)\n",
    "y_values_roc_LR <- matrix(nrow = 10, ncol = 252)\n",
    "sensitivity_LR <- 1:10\n",
    "specificity_LR <- 1:10\n",
    "accuracy_LR <- 1:10\n",
    "val_youden_LR <- 1:10\n",
    "TP_val_LR <- 1:10\n",
    "TN_val_LR <- 1:10\n",
    "FP_val_LR <- 1:10\n",
    "FN_val_LR <- 1:10\n",
    "for (i in 1:10) {\n",
    "    train_LR <- ican_LR[-cut[[i]],]\n",
    "    test_LR <- ican_LR[cut[[i]],]\n",
    "    fit_LR <- glm(rupture ~ sex + age + adjusted_IA_size + IA_location + hta + packs_year + ischemic_stroke_history + \n",
    "                            headaches + ischemic_heart_disease_history + multiple_IA + allergy + alcohol, \n",
    "                  data = train_LR, family = \"binomial\") \n",
    "    \n",
    "    pred_valid_LR <- predict(fit_LR, newdata = test_LR, type = \"response\")\n",
    "    pr_valid_LR <- prediction(pred_valid_LR, test_LR$rupture) \n",
    "    roc_valid_LR <- performance(pr_valid_LR, measure = \"tpr\", x.measure = \"fpr\")\n",
    "    test_x_LR <- as.vector(roc_valid_LR@x.values[[1]])\n",
    "    test_y_LR <- as.vector(roc_valid_LR@y.values[[1]])\n",
    "    while (length(test_x_LR) < 252) {\n",
    "        test_x_LR[length(test_x_LR) + 1] <- 1\n",
    "        test_y_LR[length(test_y_LR) + 1] <- 1\n",
    "    }\n",
    "    x_values_roc_LR[i, ] <- test_x_LR\n",
    "    y_values_roc_LR[i, ] <- test_y_LR\n",
    "    \n",
    "    ind_youden <- pr_valid_LR@tp[[1]]/(pr_valid_LR@tp[[1]] + pr_valid_LR@fn[[1]]) + pr_valid_LR@tn[[1]]/(pr_valid_LR@tn[[1]] + pr_valid_LR@fp[[1]]) - 1\n",
    "    val_youden_LR[i] <- pr_valid_LR@cutoffs[[1]][which(ind_youden == max(ind_youden))]\n",
    "    \n",
    "    cm <- table(test_LR$rupture, pred_valid_LR > val_youden_LR[i])\n",
    "    \n",
    "    TP <- cm[\"Yes\",\"TRUE\"]\n",
    "    TN <- cm[\"No\",\"FALSE\"]\n",
    "    FP <- cm[\"No\",\"TRUE\"]\n",
    "    FN <- cm[\"Yes\",\"FALSE\"]\n",
    "    \n",
    "    TP_val_LR[i] <- TP\n",
    "    TN_val_LR[i] <- TN\n",
    "    FP_val_LR[i] <- FP\n",
    "    FN_val_LR[i] <- FN\n",
    "    \n",
    "    sensitivity_LR[i] <- TP / (TP + FN)\n",
    "    specificity_LR[i] <- TN / (TN + FP)\n",
    "    accuracy_LR[i] <- (TP + TN) / (TP + TN + FP + FN)\n",
    "    \n",
    "    prediction.obj_LR <- prediction(pred_valid_LR, test_LR$rupture)\n",
    "    perf_LR <- performance(prediction.obj_LR, measure = \"auc\")\n",
    "    val_auc_LR[i] <- round(perf_LR@y.values[[1]], 2)\n",
    "}"
   ]
  },
  {
   "cell_type": "code",
   "execution_count": 12,
   "metadata": {},
   "outputs": [
    {
     "name": "stdout",
     "output_type": "stream",
     "text": [
      "[1] \"Youden index cutoff\"\n",
      "[1] \"Mean Cutoff = 0.395\"\n",
      "[1] \"Sensitivity = 0.585\"\n",
      "[1] \"Specificity = 0.493\"\n",
      "[1] \"Accuracy = 0.524 [0.476;0.572]\"\n",
      "[1] \"AUC = 0.507 [0.478;0.536]\"\n"
     ]
    }
   ],
   "source": [
    "print(\"Youden index cutoff\")\n",
    "print(paste(\"Mean Cutoff =\", round(mean(val_youden_LR), 3)))\n",
    "print(paste(\"Sensitivity =\", round(mean(sensitivity_LR), 3)))\n",
    "print(paste(\"Specificity =\", round(mean(specificity_LR), 3)))\n",
    "print(paste0(\"Accuracy = \", round(mean(accuracy_LR), 3), \" [\", \n",
    "             round(round(mean(accuracy_LR), 3)- 1.96*round(sd(accuracy_LR), 3)/sqrt(10),3),\n",
    "             \";\", round(round(mean(accuracy_LR), 3)+1.96*round(sd(accuracy_LR), 3)/sqrt(10),3), \"]\"))\n",
    "print(paste0(\"AUC = \", round(mean(val_auc_LR), 3), \" [\", \n",
    "             round(round(mean(val_auc_LR), 3)- 1.96*round(sd(val_auc_LR), 3)/sqrt(10),3),\n",
    "             \";\", round(round(mean(val_auc_LR), 3)+1.96*round(sd(val_auc_LR), 3)/sqrt(10),3), \"]\"))"
   ]
  },
  {
   "cell_type": "code",
   "execution_count": 13,
   "metadata": {},
   "outputs": [
    {
     "name": "stdout",
     "output_type": "stream",
     "text": [
      "[1] \"TP = 57\"\n",
      "[1] \"TN = 74.2\"\n",
      "[1] \"FP = 77.7\"\n",
      "[1] \"FN = 41.6\"\n"
     ]
    }
   ],
   "source": [
    "print(paste(\"TP =\", mean(TP_val_LR)))\n",
    "print(paste(\"TN =\", mean(TN_val_LR)))\n",
    "print(paste(\"FP =\", mean(FP_val_LR)))\n",
    "print(paste(\"FN =\", mean(FN_val_LR)))"
   ]
  },
  {
   "cell_type": "markdown",
   "metadata": {},
   "source": [
    "## Random Forest"
   ]
  },
  {
   "cell_type": "code",
   "execution_count": 14,
   "metadata": {},
   "outputs": [],
   "source": [
    "val_auc_RF <- 1:10\n",
    "x_values_roc_RF <- matrix(nrow = 10, ncol = 252)\n",
    "y_values_roc_RF <- matrix(nrow = 10, ncol = 252)\n",
    "sensitivity_RF <- 1:10\n",
    "specificity_RF <- 1:10\n",
    "accuracy_RF <- 1:10\n",
    "val_youden_RF <- 1:10\n",
    "TP_val_RF <- 1:10\n",
    "TN_val_RF <- 1:10\n",
    "FP_val_RF <- 1:10\n",
    "FN_val_RF <- 1:10\n",
    "for (i in 1:10) {\n",
    "    train_RF <- ican_RF[-cut[[i]],]\n",
    "    test_RF <- ican_RF[cut[[i]],]\n",
    "\n",
    "    fit_RF <- randomForest(rupture ~ ., data = train_RF, ntree = 600, mtry = 6, importance = TRUE, \n",
    "                           nodesize = 1, maxnodes = 130)\n",
    "    pred_valid_RF <- as.vector(predict(fit_RF, newdata = test_RF, type = \"prob\")[,2])\n",
    "    pr_valid_RF <- prediction(pred_valid_RF, test_RF$rupture) \n",
    "    roc_valid_RF <- performance(pr_valid_RF, measure = \"tpr\", x.measure = \"fpr\")\n",
    "    test_x_RF <- as.vector(roc_valid_RF@x.values[[1]])\n",
    "    test_y_RF <- as.vector(roc_valid_RF@y.values[[1]])\n",
    "    while (length(test_x_RF) < 252) {\n",
    "        test_x_RF[length(test_x_RF) + 1] <- 1\n",
    "        test_y_RF[length(test_y_RF) + 1] <- 1\n",
    "    }\n",
    "    x_values_roc_RF[i, ] <- test_x_RF\n",
    "    y_values_roc_RF[i, ] <- test_y_RF\n",
    "    \n",
    "    ind_youden <- pr_valid_RF@tp[[1]]/(pr_valid_RF@tp[[1]] + pr_valid_RF@fn[[1]]) + pr_valid_RF@tn[[1]]/(pr_valid_RF@tn[[1]] + pr_valid_RF@fp[[1]]) - 1\n",
    "    val_youden_RF[i] <- pr_valid_RF@cutoffs[[1]][which(ind_youden == max(ind_youden))]\n",
    "    \n",
    "    cm <- table(test_RF$rupture, pred_valid_RF > val_youden_RF[i])\n",
    "\n",
    "    TP <- cm[\"Yes\",\"TRUE\"]\n",
    "    TN <- cm[\"No\",\"FALSE\"]\n",
    "    FP <- cm[\"No\",\"TRUE\"]\n",
    "    FN <- cm[\"Yes\",\"FALSE\"]\n",
    "    \n",
    "    TP_val_RF[i] <- TP\n",
    "    TN_val_RF[i] <- TN\n",
    "    FP_val_RF[i] <- FP\n",
    "    FN_val_RF[i] <- FN\n",
    "    \n",
    "    sensitivity_RF[i] <- TP / (TP + FN)\n",
    "    specificity_RF[i] <- TN / (TN + FP)\n",
    "    accuracy_RF[i] <- (TP + TN) / (TP + TN + FP + FN)\n",
    "    \n",
    "    prediction.obj_RF <- prediction(pred_valid_RF, test_RF$rupture)\n",
    "    perf_RF <- performance(prediction.obj_RF, measure = \"auc\")\n",
    "    val_auc_RF[i] <- round(perf_RF@y.values[[1]], 2)\n",
    "}"
   ]
  },
  {
   "cell_type": "code",
   "execution_count": 15,
   "metadata": {},
   "outputs": [
    {
     "name": "stdout",
     "output_type": "stream",
     "text": [
      "[1] \"Youden index cutoff\"\n",
      "[1] \"Mean Cutoff = 0.182\"\n",
      "[1] \"Sensitivity = 0.61\"\n",
      "[1] \"Specificity = 0.438\"\n",
      "[1] \"Accuracy = 0.499 [0.458;0.54]\"\n",
      "[1] \"AUC = 0.49 [0.47;0.51]\"\n"
     ]
    }
   ],
   "source": [
    "print(\"Youden index cutoff\")\n",
    "print(paste(\"Mean Cutoff =\", round(mean(val_youden_RF), 3)))\n",
    "print(paste(\"Sensitivity =\", round(mean(sensitivity_RF), 3)))\n",
    "print(paste(\"Specificity =\", round(mean(specificity_RF), 3)))\n",
    "print(paste0(\"Accuracy = \", round(mean(accuracy_RF), 3), \" [\", \n",
    "             round(round(mean(accuracy_RF), 3)- 1.96*round(sd(accuracy_RF), 3)/sqrt(10),3),\n",
    "             \";\", round(round(mean(accuracy_RF), 3)+1.96*round(sd(accuracy_RF), 3)/sqrt(10),3), \"]\"))\n",
    "print(paste0(\"AUC = \", round(mean(val_auc_RF), 3), \" [\", \n",
    "             round(round(mean(val_auc_RF), 3)- 1.96*round(sd(val_auc_RF), 3)/sqrt(10),3),\n",
    "             \";\", round(round(mean(val_auc_RF), 3)+1.96*round(sd(val_auc_RF), 3)/sqrt(10),3), \"]\"))"
   ]
  },
  {
   "cell_type": "code",
   "execution_count": 16,
   "metadata": {},
   "outputs": [
    {
     "name": "stdout",
     "output_type": "stream",
     "text": [
      "[1] \"TP = 59.3\"\n",
      "[1] \"TN = 65.6\"\n",
      "[1] \"FP = 86.3\"\n",
      "[1] \"FN = 39.3\"\n"
     ]
    }
   ],
   "source": [
    "print(paste(\"TP =\", mean(TP_val_RF)))\n",
    "print(paste(\"TN =\", mean(TN_val_RF)))\n",
    "print(paste(\"FP =\", mean(FP_val_RF)))\n",
    "print(paste(\"FN =\", mean(FN_val_RF)))"
   ]
  },
  {
   "cell_type": "markdown",
   "metadata": {},
   "source": [
    "## Roc curves comparison"
   ]
  },
  {
   "cell_type": "code",
   "execution_count": 17,
   "metadata": {},
   "outputs": [],
   "source": [
    "sd_x_LR <- apply(x_values_roc_LR, 2, sd)\n",
    "sd_y_LR <- apply(y_values_roc_LR, 2, sd)\n",
    "\n",
    "sd_x_RF <- apply(x_values_roc_RF, 2, sd)\n",
    "sd_y_RF <- apply(y_values_roc_RF, 2, sd)"
   ]
  },
  {
   "cell_type": "code",
   "execution_count": 18,
   "metadata": {},
   "outputs": [],
   "source": [
    "x_test_LR = c(colMeans(x_values_roc_LR) - 1.96*sd_x_LR/sqrt(10), \n",
    "              colMeans(x_values_roc_LR) + 1.96*sd_x_LR/sqrt(10))\n",
    "y_test_LR = c(colMeans(y_values_roc_LR) + 1.96*sd_y_LR/sqrt(10), \n",
    "              colMeans(y_values_roc_LR) - 1.96*sd_y_LR/sqrt(10))\n",
    "\n",
    "x_test_RF = c(colMeans(x_values_roc_RF) - 1.96*sd_x_RF/sqrt(10), \n",
    "              colMeans(x_values_roc_RF) + 1.96*sd_x_RF/sqrt(10))\n",
    "y_test_RF = c(colMeans(y_values_roc_RF) + 1.96*sd_y_RF/sqrt(10), \n",
    "              colMeans(y_values_roc_RF) - 1.96*sd_y_RF/sqrt(10))"
   ]
  },
  {
   "cell_type": "code",
   "execution_count": 19,
   "metadata": {},
   "outputs": [
    {
     "data": {
      "image/png": "[encoded data removed]",
      "text/plain": [
       "plot without title"
      ]
     },
     "metadata": {
      "image/png": {
       "height": 720,
       "width": 720
      },
      "text/plain": {
       "height": 720,
       "width": 720
      }
     },
     "output_type": "display_data"
    }
   ],
   "source": [
    "options(repr.plot.width = 12, repr.plot.height = 12)\n",
    "ggplot() + labs(x = \"False positive rate\", y = \"True positive rate\") + \n",
    "ggtitle(\"ROC curves\") +\n",
    "geom_abline(intercept = 0, slope = 1, color = \"black\", linetype = \"dashed\") +\n",
    "geom_polygon(aes(x = x_test_LR, y = y_test_LR), fill = \"steelblue\", alpha= 0.2) +\n",
    "geom_polygon(aes(x = x_test_RF, y = y_test_RF), fill = \"red\", alpha= 0.1) +\n",
    "geom_line(aes(x = colMeans(x_values_roc_LR), y = colMeans(y_values_roc_LR), colour = \"Y\"), size = 1) +\n",
    "geom_line(aes(x = colMeans(x_values_roc_RF), y = colMeans(y_values_roc_RF), colour = \"#CC0000\"), size = 1) +\n",
    "geom_line(aes(x = fpr_phases, y = tpr_phases, colour = \"green\"), size = 1) +\n",
    "theme_minimal() + \n",
    "coord_equal() + \n",
    "theme(axis.title.x = element_text(color=\"black\", size=16, face=\"bold\"),\n",
    "      axis.title.y = element_text(color=\"black\", size=16, face=\"bold\"),\n",
    "      axis.text.x = element_text(color=\"black\", size=12),\n",
    "      axis.text.y = element_text(color=\"black\", size=12)) + \n",
    "scale_colour_discrete(name = \"Methods\", breaks = c(\"Y\", \"#CC0000\", \"green\"), \n",
    "                      labels=c(paste0(\"Logistic regression (AUC = \", round(mean(val_auc_LR), 3), \" [\", \n",
    "                                      round(round(mean(val_auc_LR), 3)- 1.96*round(sd(val_auc_LR), 3)/sqrt(10),3),\n",
    "                                      \";\", round(round(mean(val_auc_LR), 3)+1.96*round(sd(val_auc_LR), 3)/sqrt(10),3), \"])\"),\n",
    "                               paste0(\"Random Forest (AUC = \", round(mean(val_auc_RF), 3), \" [\", \n",
    "                                      round(round(mean(val_auc_RF), 3)- 1.96*round(sd(val_auc_RF), 3)/sqrt(10),3),\n",
    "                                      \";\", round(round(mean(val_auc_RF), 3)+1.96*round(sd(val_auc_RF), 3)/sqrt(10),3), \"])\"),\n",
    "                               paste0(\"PHASES Score (AUC = \", round(perf@y.values[[1]], 2), \")\"))) +\n",
    "theme(legend.position = c(0.7, 0.2)) + \n",
    "theme(legend.title = element_text(colour=\"black\", size=16, face=\"bold\")) + \n",
    "theme(legend.text = element_text(colour=\"black\", size=16))\n"
   ]
  },
  {
   "cell_type": "markdown",
   "metadata": {},
   "source": [
    "### AUC methods comparison"
   ]
  },
  {
   "cell_type": "code",
   "execution_count": 20,
   "metadata": {},
   "outputs": [],
   "source": [
    "info_min <- c(min(val_auc_LR), min(val_auc_RF))\n",
    "info_mean <- c(mean(val_auc_LR), mean(val_auc_RF))\n",
    "info_median <- c(median(val_auc_LR), median(val_auc_RF))\n",
    "info_max <- c(max(val_auc_LR), max(val_auc_RF))"
   ]
  },
  {
   "cell_type": "code",
   "execution_count": 21,
   "metadata": {},
   "outputs": [
    {
     "data": {
      "text/html": [
       "<table>\n",
       "<caption>A data.frame: 2 × 4</caption>\n",
       "<thead>\n",
       "\t<tr><th></th><th scope=col>Minimum</th><th scope=col>Mean</th><th scope=col>Median</th><th scope=col>Maximum</th></tr>\n",
       "\t<tr><th></th><th scope=col>&lt;dbl&gt;</th><th scope=col>&lt;dbl&gt;</th><th scope=col>&lt;dbl&gt;</th><th scope=col>&lt;dbl&gt;</th></tr>\n",
       "</thead>\n",
       "<tbody>\n",
       "\t<tr><th scope=row>Logistic Regression</th><td>0.42</td><td>0.507</td><td>0.510</td><td>0.59</td></tr>\n",
       "\t<tr><th scope=row>Random Forest</th><td>0.45</td><td>0.490</td><td>0.485</td><td>0.54</td></tr>\n",
       "</tbody>\n",
       "</table>\n"
      ],
      "text/latex": [
       "A data.frame: 2 × 4\n",
       "\\begin{tabular}{r|llll}\n",
       "  & Minimum & Mean & Median & Maximum\\\\\n",
       "  & <dbl> & <dbl> & <dbl> & <dbl>\\\\\n",
       "\\hline\n",
       "\tLogistic Regression & 0.42 & 0.507 & 0.510 & 0.59\\\\\n",
       "\tRandom Forest & 0.45 & 0.490 & 0.485 & 0.54\\\\\n",
       "\\end{tabular}\n"
      ],
      "text/markdown": [
       "\n",
       "A data.frame: 2 × 4\n",
       "\n",
       "| <!--/--> | Minimum &lt;dbl&gt; | Mean &lt;dbl&gt; | Median &lt;dbl&gt; | Maximum &lt;dbl&gt; |\n",
       "|---|---|---|---|---|\n",
       "| Logistic Regression | 0.42 | 0.507 | 0.510 | 0.59 |\n",
       "| Random Forest | 0.45 | 0.490 | 0.485 | 0.54 |\n",
       "\n"
      ],
      "text/plain": [
       "                    Minimum Mean  Median Maximum\n",
       "Logistic Regression 0.42    0.507 0.510  0.59   \n",
       "Random Forest       0.45    0.490 0.485  0.54   "
      ]
     },
     "metadata": {},
     "output_type": "display_data"
    }
   ],
   "source": [
    "df_info <- data.frame(info_min, info_mean, info_median, info_max, row.names = c(\"Logistic Regression\", \"Random Forest\"))\n",
    "colnames(df_info) <- c(\"Minimum\", \"Mean\", \"Median\", 'Maximum')\n",
    "round(df_info,3)"
   ]
  }
 ],
 "metadata": {
  "kernelspec": {
   "display_name": "R",
   "language": "R",
   "name": "ir"
  },
  "language_info": {
   "codemirror_mode": "r",
   "file_extension": ".r",
   "mimetype": "text/x-r-source",
   "name": "R",
   "pygments_lexer": "r",
   "version": "3.6.1"
  }
 },
 "nbformat": 4,
 "nbformat_minor": 2
}
