{
 "cells": [
  {
   "cell_type": "markdown",
   "metadata": {},
   "source": [
    "# Logitic regression on ICAN clinical data\n",
    "\n",
    "**Objective:** implement a logistic regression model with the ICAN clinical data."
   ]
  },
  {
   "cell_type": "markdown",
   "metadata": {},
   "source": [
    "## Library importation"
   ]
  },
  {
   "cell_type": "code",
   "execution_count": 1,
   "metadata": {},
   "outputs": [
    {
     "name": "stderr",
     "output_type": "stream",
     "text": [
      "\n",
      "Attaching package: 'pls'\n",
      "\n",
      "\n",
      "The following object is masked from 'package:stats':\n",
      "\n",
      "    loadings\n",
      "\n",
      "\n",
      "Loading required package: ggplot2\n",
      "\n"
     ]
    }
   ],
   "source": [
    "library(finalfit)\n",
    "library(knitr)\n",
    "library(pls)\n",
    "library(forestmodel)"
   ]
  },
  {
   "cell_type": "markdown",
   "metadata": {},
   "source": [
    "## Data loading"
   ]
  },
  {
   "cell_type": "code",
   "execution_count": 2,
   "metadata": {},
   "outputs": [
    {
     "data": {
      "text/html": [
       "<ol class=list-inline>\n",
       "\t<li>2505</li>\n",
       "\t<li>28</li>\n",
       "</ol>\n"
      ],
      "text/latex": [
       "\\begin{enumerate*}\n",
       "\\item 2505\n",
       "\\item 28\n",
       "\\end{enumerate*}\n"
      ],
      "text/markdown": [
       "1. 2505\n",
       "2. 28\n",
       "\n",
       "\n"
      ],
      "text/plain": [
       "[1] 2505   28"
      ]
     },
     "metadata": {},
     "output_type": "display_data"
    }
   ],
   "source": [
    "ican <- read.csv(\"simulated_ican_clinical_data.csv\", sep = \"#\", encoding = \"utf8\")\n",
    "ican <- ican[,-dim(ican)[2]]\n",
    "dim(ican)"
   ]
  },
  {
   "cell_type": "code",
   "execution_count": 3,
   "metadata": {},
   "outputs": [],
   "source": [
    "adjusted_IA_size_class <- c()\n",
    "for (i in 1:dim(ican)[1]) {\n",
    "    if (ican$adjusted_IA_size[i] < 3) {\n",
    "        adjusted_IA_size_class[i] <- \"<3\"\n",
    "    } else if (ican$adjusted_IA_size[i] >= 3) {\n",
    "        adjusted_IA_size_class[i] <- \">=3\"\n",
    "    } else {\n",
    "        adjusted_IA_size_class[i] <- \"Other\"\n",
    "    }\n",
    "}\n",
    "ican[\"adjusted_IA_size\"] <- as.factor(adjusted_IA_size_class)"
   ]
  },
  {
   "cell_type": "code",
   "execution_count": 4,
   "metadata": {},
   "outputs": [],
   "source": [
    "age_class <- c()\n",
    "for (i in 1:dim(ican)[1]) {\n",
    "    if (ican$age[i] < 50) {\n",
    "        age_class[i] <- \"<50\"\n",
    "    } else if (ican$age[i] < 60) {\n",
    "        age_class[i] <- \"50-59\"\n",
    "    } else if (ican$age[i] < 70) {\n",
    "        age_class[i] <- \"60-69\"\n",
    "    } else if (ican$age[i] >= 70) {\n",
    "        age_class[i] <- \">=70\"\n",
    "    } else {\n",
    "        age_class[i] <- \"Other\"\n",
    "    }\n",
    "}\n",
    "ican[\"age\"] <- as.factor(age_class)"
   ]
  },
  {
   "cell_type": "code",
   "execution_count": 5,
   "metadata": {},
   "outputs": [],
   "source": [
    "ican$IA_location <- factor(as.character(ican$IA_location), levels = c(\"ICA\", \"MCA\", \"ACA\", \"PCA\"))\n",
    "ican$packs_year <- factor(as.character(ican$packs_year), levels = c(\"Non-smoker\", \"Little_smoker\", \"Regular_smoker\"))\n",
    "ican$adjusted_IA_size <- factor(as.character(ican$adjusted_IA_size), levels = c(\"<3\", \">=3\"))\n",
    "ican$age <- factor(as.character(ican$age), levels = c(\"<50\", \"50-59\", \"60-69\", \">=70\"))"
   ]
  },
  {
   "cell_type": "markdown",
   "metadata": {},
   "source": [
    "## Univariable Logistic Regression"
   ]
  },
  {
   "cell_type": "code",
   "execution_count": 6,
   "metadata": {},
   "outputs": [
    {
     "name": "stderr",
     "output_type": "stream",
     "text": [
      "Waiting for profiling to be done...\n",
      "\n",
      "Waiting for profiling to be done...\n",
      "\n",
      "Waiting for profiling to be done...\n",
      "\n",
      "Waiting for profiling to be done...\n",
      "\n",
      "Waiting for profiling to be done...\n",
      "\n",
      "Waiting for profiling to be done...\n",
      "\n",
      "Waiting for profiling to be done...\n",
      "\n",
      "Waiting for profiling to be done...\n",
      "\n",
      "Waiting for profiling to be done...\n",
      "\n",
      "Waiting for profiling to be done...\n",
      "\n",
      "Waiting for profiling to be done...\n",
      "\n",
      "Waiting for profiling to be done...\n",
      "\n",
      "Waiting for profiling to be done...\n",
      "\n",
      "Waiting for profiling to be done...\n",
      "\n",
      "Waiting for profiling to be done...\n",
      "\n",
      "Waiting for profiling to be done...\n",
      "\n",
      "Waiting for profiling to be done...\n",
      "\n",
      "Waiting for profiling to be done...\n",
      "\n",
      "Waiting for profiling to be done...\n",
      "\n",
      "Waiting for profiling to be done...\n",
      "\n",
      "Waiting for profiling to be done...\n",
      "\n",
      "Waiting for profiling to be done...\n",
      "\n",
      "Waiting for profiling to be done...\n",
      "\n",
      "Waiting for profiling to be done...\n",
      "\n",
      "Waiting for profiling to be done...\n",
      "\n",
      "Waiting for profiling to be done...\n",
      "\n",
      "Waiting for profiling to be done...\n",
      "\n"
     ]
    },
    {
     "data": {
      "text/plain": [
       "\n",
       "\n",
       "|explanatory                            |OR (univariate)           |\n",
       "|:--------------------------------------|:-------------------------|\n",
       "|sexM                                   |0.93 (0.78-1.12, p=0.443) |\n",
       "|age50-59                               |0.99 (0.81-1.20, p=0.890) |\n",
       "|age60-69                               |0.98 (0.79-1.22, p=0.890) |\n",
       "|age>=70                                |1.22 (0.90-1.66, p=0.204) |\n",
       "|bmi                                    |1.00 (0.98-1.02, p=0.863) |\n",
       "|sporadic_caseYes                       |1.03 (0.84-1.27, p=0.781) |\n",
       "|multiple_IAYes                         |1.04 (0.87-1.23, p=0.681) |\n",
       "|IA_locationMCA                         |0.98 (0.78-1.22, p=0.827) |\n",
       "|IA_locationACA                         |1.04 (0.84-1.29, p=0.731) |\n",
       "|IA_locationPCA                         |0.97 (0.76-1.25, p=0.829) |\n",
       "|adjusted_IA_size>=3                    |0.96 (0.81-1.14, p=0.669) |\n",
       "|packs_yearLittle_smoker                |1.08 (0.89-1.32, p=0.413) |\n",
       "|packs_yearRegular_smoker               |1.30 (1.05-1.62, p=0.017) |\n",
       "|alcohol> 150g                          |1.22 (0.95-1.55, p=0.111) |\n",
       "|htaYes                                 |1.01 (0.86-1.19, p=0.898) |\n",
       "|headachesYes                           |1.17 (0.95-1.45, p=0.145) |\n",
       "|diabetesYes                            |0.96 (0.64-1.43, p=0.848) |\n",
       "|dyslipidemiaYes                        |0.89 (0.74-1.08, p=0.259) |\n",
       "|ischemic_stroke_historyYes             |1.24 (0.90-1.69, p=0.180) |\n",
       "|ischemic_heart_disease_historyYes      |0.79 (0.50-1.24, p=0.315) |\n",
       "|pad_historyYes                         |0.63 (0.33-1.15, p=0.148) |\n",
       "|carotid_artery_stenosis_historyYes     |1.36 (0.85-2.16, p=0.190) |\n",
       "|aortic_aneurysm_historyYes             |0.62 (0.09-2.86, p=0.562) |\n",
       "|statin_tttYes                          |0.90 (0.71-1.12, p=0.342) |\n",
       "|platelet_aggregation_inhibiting_tttYes |1.09 (0.87-1.37, p=0.462) |\n",
       "|vka_or_anticoagulant_tttYes            |0.79 (0.49-1.26, p=0.339) |\n",
       "|anti_inflammatory_tttYes               |0.98 (0.61-1.56, p=0.942) |\n",
       "|hormone_therapy_tttYes                 |1.27 (0.78-2.04, p=0.338) |\n",
       "|allergyYes                             |1.01 (0.83-1.22, p=0.926) |\n",
       "|asthmaYes                              |1.09 (0.79-1.50, p=0.592) |\n",
       "|atopyYes                               |0.97 (0.69-1.37, p=0.881) |\n",
       "|eczemaYes                              |1.05 (0.73-1.50, p=0.792) |"
      ]
     },
     "metadata": {},
     "output_type": "display_data"
    }
   ],
   "source": [
    "dependent <- \"rupture\"\n",
    "explanatory <- colnames(ican[,-dim(ican)[2]])\n",
    "res_glm_uni <- ican %>%\n",
    "    glmuni(dependent, explanatory) %>% \n",
    "    fit2df(estimate_suffix=\" (univariate)\")\n",
    "kable(res_glm_uni,row.names=FALSE, align=c(\"l\", \"l\", \"r\", \"r\", \"r\", \"r\"))"
   ]
  },
  {
   "cell_type": "markdown",
   "metadata": {},
   "source": [
    "## Multivariables Logistic Regression"
   ]
  },
  {
   "cell_type": "code",
   "execution_count": 7,
   "metadata": {
    "scrolled": false
   },
   "outputs": [
    {
     "data": {
      "text/plain": [
       "\n",
       "Call:\n",
       "glm(formula = rupture ~ sex + age + adjusted_IA_size + IA_location + \n",
       "    hta + packs_year, family = binomial, data = ican)\n",
       "\n",
       "Deviance Residuals: \n",
       "    Min       1Q   Median       3Q      Max  \n",
       "-1.1799  -0.9935  -0.9552   1.3489   1.4986  \n",
       "\n",
       "Coefficients:\n",
       "                         Estimate Std. Error z value Pr(>|z|)    \n",
       "(Intercept)              -0.53240    0.12834  -4.148 3.35e-05 ***\n",
       "sexM                     -0.06807    0.09207  -0.739   0.4597    \n",
       "age50-59                 -0.01577    0.09860  -0.160   0.8729    \n",
       "age60-69                 -0.01354    0.11036  -0.123   0.9024    \n",
       "age>=70                   0.18613    0.15764   1.181   0.2377    \n",
       "adjusted_IA_size>=3      -0.09040    0.11655  -0.776   0.4379    \n",
       "IA_locationMCA           -0.02269    0.11609  -0.195   0.8450    \n",
       "IA_locationACA            0.09670    0.13165   0.734   0.4627    \n",
       "IA_locationPCA            0.03943    0.15250   0.259   0.7960    \n",
       "htaYes                    0.01973    0.08518   0.232   0.8169    \n",
       "packs_yearLittle_smoker   0.07692    0.09955   0.773   0.4397    \n",
       "packs_yearRegular_smoker  0.25554    0.11083   2.306   0.0211 *  \n",
       "---\n",
       "Signif. codes:  0 '***' 0.001 '**' 0.01 '*' 0.05 '.' 0.1 ' ' 1\n",
       "\n",
       "(Dispersion parameter for binomial family taken to be 1)\n",
       "\n",
       "    Null deviance: 3358.4  on 2504  degrees of freedom\n",
       "Residual deviance: 3348.9  on 2493  degrees of freedom\n",
       "AIC: 3372.9\n",
       "\n",
       "Number of Fisher Scoring iterations: 4\n"
      ]
     },
     "metadata": {},
     "output_type": "display_data"
    }
   ],
   "source": [
    "fit1 <- glm(rupture ~ ., data = ican, family = \"binomial\")\n",
    "fit0 <- glm(rupture ~ sex + age + adjusted_IA_size + IA_location + hta + packs_year, \n",
    "            family = binomial, data = ican)\n",
    "summary(fit0)"
   ]
  },
  {
   "cell_type": "code",
   "execution_count": 8,
   "metadata": {
    "scrolled": true
   },
   "outputs": [
    {
     "name": "stdout",
     "output_type": "stream",
     "text": [
      "Start:  AIC=3372.94\n",
      "rupture ~ sex + age + adjusted_IA_size + IA_location + hta + \n",
      "    packs_year\n",
      "\n",
      "                                      Df Deviance    AIC\n",
      "+ alcohol                              1   3346.6 3372.6\n",
      "+ pad_history                          1   3346.8 3372.8\n",
      "+ headaches                            1   3346.8 3372.8\n",
      "<none>                                     3348.9 3372.9\n",
      "+ ischemic_stroke_history              1   3347.1 3373.1\n",
      "+ carotid_artery_stenosis_history      1   3347.2 3373.2\n",
      "+ dyslipidemia                         1   3347.8 3373.8\n",
      "+ ischemic_heart_disease_history       1   3348.0 3374.0\n",
      "+ vka_or_anticoagulant_ttt             1   3348.0 3374.0\n",
      "+ hormone_therapy_ttt                  1   3348.1 3374.1\n",
      "+ statin_ttt                           1   3348.2 3374.2\n",
      "+ platelet_aggregation_inhibiting_ttt  1   3348.4 3374.4\n",
      "+ asthma                               1   3348.6 3374.6\n",
      "+ aortic_aneurysm_history              1   3348.7 3374.7\n",
      "+ multiple_IA                          1   3348.8 3374.8\n",
      "+ eczema                               1   3348.9 3374.9\n",
      "+ sporadic_case                        1   3348.9 3374.9\n",
      "+ bmi                                  1   3348.9 3374.9\n",
      "+ atopy                                1   3348.9 3374.9\n",
      "+ diabetes                             1   3348.9 3374.9\n",
      "+ allergy                              1   3348.9 3374.9\n",
      "+ anti_inflammatory_ttt                1   3348.9 3374.9\n",
      "\n",
      "Step:  AIC=3372.57\n",
      "rupture ~ sex + age + adjusted_IA_size + IA_location + hta + \n",
      "    packs_year + alcohol\n",
      "\n",
      "                                      Df Deviance    AIC\n",
      "+ pad_history                          1   3344.3 3372.3\n",
      "+ headaches                            1   3344.4 3372.4\n",
      "<none>                                     3346.6 3372.6\n",
      "+ ischemic_stroke_history              1   3344.6 3372.6\n",
      "+ carotid_artery_stenosis_history      1   3344.8 3372.8\n",
      "+ dyslipidemia                         1   3345.3 3373.3\n",
      "+ ischemic_heart_disease_history       1   3345.6 3373.6\n",
      "+ vka_or_anticoagulant_ttt             1   3345.6 3373.6\n",
      "+ hormone_therapy_ttt                  1   3345.8 3373.8\n",
      "+ statin_ttt                           1   3345.8 3373.8\n",
      "+ platelet_aggregation_inhibiting_ttt  1   3346.0 3374.0\n",
      "+ asthma                               1   3346.3 3374.3\n",
      "+ aortic_aneurysm_history              1   3346.3 3374.3\n",
      "+ multiple_IA                          1   3346.5 3374.5\n",
      "+ eczema                               1   3346.5 3374.5\n",
      "+ sporadic_case                        1   3346.5 3374.5\n",
      "+ bmi                                  1   3346.5 3374.5\n",
      "+ atopy                                1   3346.5 3374.5\n",
      "+ diabetes                             1   3346.5 3374.5\n",
      "+ allergy                              1   3346.6 3374.6\n",
      "+ anti_inflammatory_ttt                1   3346.6 3374.6\n",
      "\n",
      "Step:  AIC=3372.3\n",
      "rupture ~ sex + age + adjusted_IA_size + IA_location + hta + \n",
      "    packs_year + alcohol + pad_history\n",
      "\n",
      "                                      Df Deviance    AIC\n",
      "+ headaches                            1   3342.0 3372.0\n",
      "+ ischemic_stroke_history              1   3342.1 3372.1\n",
      "<none>                                     3344.3 3372.3\n",
      "+ carotid_artery_stenosis_history      1   3342.4 3372.4\n",
      "+ dyslipidemia                         1   3343.1 3373.1\n",
      "+ platelet_aggregation_inhibiting_ttt  1   3343.3 3373.3\n",
      "+ vka_or_anticoagulant_ttt             1   3343.4 3373.4\n",
      "+ hormone_therapy_ttt                  1   3343.6 3373.6\n",
      "+ statin_ttt                           1   3343.6 3373.6\n",
      "+ ischemic_heart_disease_history       1   3343.7 3373.7\n",
      "+ aortic_aneurysm_history              1   3344.0 3374.0\n",
      "+ asthma                               1   3344.0 3374.0\n",
      "+ multiple_IA                          1   3344.2 3374.2\n",
      "+ eczema                               1   3344.2 3374.2\n",
      "+ bmi                                  1   3344.2 3374.2\n",
      "+ sporadic_case                        1   3344.3 3374.3\n",
      "+ atopy                                1   3344.3 3374.3\n",
      "+ diabetes                             1   3344.3 3374.3\n",
      "+ allergy                              1   3344.3 3374.3\n",
      "+ anti_inflammatory_ttt                1   3344.3 3374.3\n",
      "\n",
      "Step:  AIC=3372.04\n",
      "rupture ~ sex + age + adjusted_IA_size + IA_location + hta + \n",
      "    packs_year + alcohol + pad_history + headaches\n",
      "\n",
      "                                      Df Deviance    AIC\n",
      "+ ischemic_stroke_history              1   3339.8 3371.8\n",
      "<none>                                     3342.0 3372.0\n",
      "+ carotid_artery_stenosis_history      1   3340.2 3372.2\n",
      "+ platelet_aggregation_inhibiting_ttt  1   3341.0 3373.0\n",
      "+ dyslipidemia                         1   3341.1 3373.1\n",
      "+ vka_or_anticoagulant_ttt             1   3341.2 3373.2\n",
      "+ hormone_therapy_ttt                  1   3341.4 3373.4\n",
      "+ statin_ttt                           1   3341.5 3373.5\n",
      "+ ischemic_heart_disease_history       1   3341.5 3373.5\n",
      "+ aortic_aneurysm_history              1   3341.7 3373.7\n",
      "+ asthma                               1   3341.8 3373.8\n",
      "+ eczema                               1   3341.9 3373.9\n",
      "+ multiple_IA                          1   3341.9 3373.9\n",
      "+ bmi                                  1   3342.0 3374.0\n",
      "+ sporadic_case                        1   3342.0 3374.0\n",
      "+ atopy                                1   3342.0 3374.0\n",
      "+ diabetes                             1   3342.0 3374.0\n",
      "+ anti_inflammatory_ttt                1   3342.0 3374.0\n",
      "+ allergy                              1   3342.0 3374.0\n",
      "\n",
      "Step:  AIC=3371.79\n",
      "rupture ~ sex + age + adjusted_IA_size + IA_location + hta + \n",
      "    packs_year + alcohol + pad_history + headaches + ischemic_stroke_history\n",
      "\n",
      "                                      Df Deviance    AIC\n",
      "<none>                                     3339.8 3371.8\n",
      "+ carotid_artery_stenosis_history      1   3338.0 3372.0\n",
      "+ vka_or_anticoagulant_ttt             1   3338.7 3372.7\n",
      "+ dyslipidemia                         1   3338.7 3372.7\n",
      "+ ischemic_heart_disease_history       1   3339.0 3373.0\n",
      "+ statin_ttt                           1   3339.1 3373.1\n",
      "+ hormone_therapy_ttt                  1   3339.2 3373.2\n",
      "+ aortic_aneurysm_history              1   3339.4 3373.4\n",
      "+ platelet_aggregation_inhibiting_ttt  1   3339.5 3373.5\n",
      "+ asthma                               1   3339.5 3373.5\n",
      "+ eczema                               1   3339.7 3373.7\n",
      "+ bmi                                  1   3339.7 3373.7\n",
      "+ multiple_IA                          1   3339.7 3373.7\n",
      "+ sporadic_case                        1   3339.7 3373.7\n",
      "+ atopy                                1   3339.8 3373.8\n",
      "+ diabetes                             1   3339.8 3373.8\n",
      "+ allergy                              1   3339.8 3373.8\n",
      "+ anti_inflammatory_ttt                1   3339.8 3373.8\n"
     ]
    }
   ],
   "source": [
    "tmp <- step(fit0, scope = formula(fit1), direction = \"forward\")"
   ]
  },
  {
   "cell_type": "code",
   "execution_count": 9,
   "metadata": {},
   "outputs": [
    {
     "data": {
      "text/plain": [
       "\n",
       "Call:\n",
       "glm(formula = tmp$call, family = \"binomial\", data = ican)\n",
       "\n",
       "Deviance Residuals: \n",
       "    Min       1Q   Median       3Q      Max  \n",
       "-1.2546  -1.0091  -0.9334   1.3375   1.6788  \n",
       "\n",
       "Coefficients:\n",
       "                           Estimate Std. Error z value Pr(>|z|)    \n",
       "(Intercept)                -0.60794    0.13235  -4.594 4.36e-06 ***\n",
       "sexM                       -0.06612    0.09224  -0.717   0.4734    \n",
       "age50-59                   -0.01676    0.09883  -0.170   0.8654    \n",
       "age60-69                   -0.01495    0.11059  -0.135   0.8925    \n",
       "age>=70                     0.19350    0.15794   1.225   0.2205    \n",
       "adjusted_IA_size>=3        -0.07870    0.11680  -0.674   0.5005    \n",
       "IA_locationMCA             -0.01383    0.11634  -0.119   0.9054    \n",
       "IA_locationACA              0.09626    0.13187   0.730   0.4654    \n",
       "IA_locationPCA              0.04416    0.15285   0.289   0.7726    \n",
       "htaYes                      0.03638    0.08580   0.424   0.6715    \n",
       "packs_yearLittle_smoker     0.07905    0.09978   0.792   0.4282    \n",
       "packs_yearRegular_smoker    0.25587    0.11105   2.304   0.0212 *  \n",
       "alcohol> 150g               0.19910    0.12445   1.600   0.1096    \n",
       "pad_historyYes             -0.50431    0.32204  -1.566   0.1174    \n",
       "headachesYes                0.16895    0.10997   1.536   0.1245    \n",
       "ischemic_stroke_historyYes  0.24200    0.16043   1.508   0.1314    \n",
       "---\n",
       "Signif. codes:  0 '***' 0.001 '**' 0.01 '*' 0.05 '.' 0.1 ' ' 1\n",
       "\n",
       "(Dispersion parameter for binomial family taken to be 1)\n",
       "\n",
       "    Null deviance: 3358.4  on 2504  degrees of freedom\n",
       "Residual deviance: 3339.8  on 2489  degrees of freedom\n",
       "AIC: 3371.8\n",
       "\n",
       "Number of Fisher Scoring iterations: 4\n"
      ]
     },
     "metadata": {},
     "output_type": "display_data"
    }
   ],
   "source": [
    "fit <- glm(tmp$call, data = ican, family = \"binomial\")\n",
    "summary(fit) "
   ]
  },
  {
   "cell_type": "code",
   "execution_count": 10,
   "metadata": {},
   "outputs": [
    {
     "name": "stderr",
     "output_type": "stream",
     "text": [
      "Warning message in recalculate_width_panels(panel_positions, mapped_text = mapped_text, :\n",
      "\"Unable to resize forest panel to be smaller than its heading; consider a smaller text size\"\n",
      "Warning message:\n",
      "\"Ignoring unknown aesthetics: x\"\n"
     ]
    },
    {
     "data": {
      "image/png": "[encoded data removed]",
      "text/plain": [
       "plot without title"
      ]
     },
     "metadata": {
      "image/png": {
       "height": 720,
       "width": 720
      },
      "text/plain": {
       "height": 720,
       "width": 720
      }
     },
     "output_type": "display_data"
    }
   ],
   "source": [
    "options(repr.plot.width = 12, repr.plot.height = 12)\n",
    "forest_model(fit, format_options = list(colour = \"black\", shape = 20, text_size = 5, banded = TRUE))"
   ]
  }
 ],
 "metadata": {
  "kernelspec": {
   "display_name": "R",
   "language": "R",
   "name": "ir"
  },
  "language_info": {
   "codemirror_mode": "r",
   "file_extension": ".r",
   "mimetype": "text/x-r-source",
   "name": "R",
   "pygments_lexer": "r",
   "version": "3.6.1"
  }
 },
 "nbformat": 4,
 "nbformat_minor": 2
}
