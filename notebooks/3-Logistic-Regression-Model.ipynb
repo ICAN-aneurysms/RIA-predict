{
 "cells": [
  {
   "cell_type": "markdown",
   "metadata": {},
   "source": [
    "# Logitic regression on ICAN clinical data\n",
    "\n",
    "**Objective:** implement a logistic regression model with the simulated ICAN clinical data."
   ]
  },
  {
   "cell_type": "markdown",
   "metadata": {},
   "source": [
    "## Library importation"
   ]
  },
  {
   "cell_type": "code",
   "execution_count": 1,
   "metadata": {},
   "outputs": [
    {
     "name": "stderr",
     "output_type": "stream",
     "text": [
      "Warning message:\n",
      "\"package 'knitr' was built under R version 3.6.3\"\n"
     ]
    }
   ],
   "source": [
    "library(finalfit)\n",
    "library(knitr)\n",
    "library(ggplot2)"
   ]
  },
  {
   "cell_type": "markdown",
   "metadata": {},
   "source": [
    "## Data loading"
   ]
  },
  {
   "cell_type": "code",
   "execution_count": 2,
   "metadata": {},
   "outputs": [
    {
     "data": {
      "text/html": [
       "<ol class=list-inline>\n",
       "\t<li>2505</li>\n",
       "\t<li>28</li>\n",
       "</ol>\n"
      ],
      "text/latex": [
       "\\begin{enumerate*}\n",
       "\\item 2505\n",
       "\\item 28\n",
       "\\end{enumerate*}\n"
      ],
      "text/markdown": [
       "1. 2505\n",
       "2. 28\n",
       "\n",
       "\n"
      ],
      "text/plain": [
       "[1] 2505   28"
      ]
     },
     "metadata": {},
     "output_type": "display_data"
    }
   ],
   "source": [
    "ican <- read.csv(\"simulated_ican_clinical_data.csv\", sep = \"#\", encoding = \"utf8\")\n",
    "dim(ican)"
   ]
  },
  {
   "cell_type": "code",
   "execution_count": 3,
   "metadata": {},
   "outputs": [],
   "source": [
    "ican[\"adjusted_size_ratio\"] <- as.factor(ifelse(is.na(ican$adjusted_size_ratio), NA, \n",
    "                                                ifelse(ican$adjusted_size_ratio < 3, \"<3\", \n",
    "                                                       ifelse(ican$adjusted_size_ratio >= 3, \">=3\", \"Other\"))))"
   ]
  },
  {
   "cell_type": "code",
   "execution_count": 4,
   "metadata": {},
   "outputs": [],
   "source": [
    "ican[\"age\"] <- as.factor(ifelse(is.na(ican$age), NA, \n",
    "                                ifelse(ican$age < 50, \"<50\", \n",
    "                                       ifelse(ican$age < 60, \"50-59\", \n",
    "                                              ifelse(ican$age < 70, \"60-69\", \n",
    "                                                     ifelse(ican$age >= 70, \">=70\", \"Other\"))))))"
   ]
  },
  {
   "cell_type": "code",
   "execution_count": 5,
   "metadata": {},
   "outputs": [],
   "source": [
    "ican$IA_location <- factor(as.character(ican$IA_location), levels = c(\"ICA\", \"MCA\", \"ACA\", \"PCA\"))\n",
    "ican$tobacco <- factor(as.character(ican$tobacco), levels = c(\"Non-smoker\", \"Minor_smoker\", \"Regular_smoker\"))\n",
    "ican$adjusted_size_ratio <- factor(as.character(ican$adjusted_size_ratio), levels = c(\"<3\", \">=3\"))\n",
    "ican$age <- factor(as.character(ican$age), levels = c(\"<50\", \"50-59\", \"60-69\", \">=70\"))"
   ]
  },
  {
   "cell_type": "markdown",
   "metadata": {},
   "source": [
    "## Univariable Logistic Regression"
   ]
  },
  {
   "cell_type": "code",
   "execution_count": 6,
   "metadata": {
    "scrolled": true
   },
   "outputs": [
    {
     "name": "stderr",
     "output_type": "stream",
     "text": [
      "Waiting for profiling to be done...\n",
      "\n",
      "Waiting for profiling to be done...\n",
      "\n",
      "Waiting for profiling to be done...\n",
      "\n",
      "Waiting for profiling to be done...\n",
      "\n",
      "Waiting for profiling to be done...\n",
      "\n",
      "Waiting for profiling to be done...\n",
      "\n",
      "Waiting for profiling to be done...\n",
      "\n",
      "Waiting for profiling to be done...\n",
      "\n",
      "Waiting for profiling to be done...\n",
      "\n",
      "Waiting for profiling to be done...\n",
      "\n",
      "Waiting for profiling to be done...\n",
      "\n",
      "Waiting for profiling to be done...\n",
      "\n",
      "Waiting for profiling to be done...\n",
      "\n",
      "Waiting for profiling to be done...\n",
      "\n",
      "Waiting for profiling to be done...\n",
      "\n",
      "Waiting for profiling to be done...\n",
      "\n",
      "Waiting for profiling to be done...\n",
      "\n",
      "Waiting for profiling to be done...\n",
      "\n",
      "Waiting for profiling to be done...\n",
      "\n",
      "Waiting for profiling to be done...\n",
      "\n",
      "Waiting for profiling to be done...\n",
      "\n",
      "Waiting for profiling to be done...\n",
      "\n",
      "Waiting for profiling to be done...\n",
      "\n",
      "Waiting for profiling to be done...\n",
      "\n",
      "Waiting for profiling to be done...\n",
      "\n",
      "Waiting for profiling to be done...\n",
      "\n",
      "Waiting for profiling to be done...\n",
      "\n"
     ]
    },
    {
     "data": {
      "text/plain": [
       "\n",
       "\n",
       "|explanatory                            |OR (univariate)           |\n",
       "|:--------------------------------------|:-------------------------|\n",
       "|sexM                                   |1.14 (0.95-1.36, p=0.147) |\n",
       "|age50-59                               |0.64 (0.53-0.78, p<0.001) |\n",
       "|age60-69                               |0.47 (0.38-0.59, p<0.001) |\n",
       "|age>=70                                |0.30 (0.21-0.41, p<0.001) |\n",
       "|bmi                                    |0.99 (0.97-1.00, p=0.105) |\n",
       "|sporadic_caseYes                       |1.32 (1.07-1.62, p=0.008) |\n",
       "|multiple_IAYes                         |1.22 (1.03-1.45, p=0.022) |\n",
       "|IA_locationMCA                         |2.47 (1.92-3.21, p<0.001) |\n",
       "|IA_locationACA                         |4.11 (3.22-5.28, p<0.001) |\n",
       "|IA_locationPCA                         |4.14 (3.16-5.45, p<0.001) |\n",
       "|adjusted_size_ratio>=3                 |1.91 (1.62-2.26, p<0.001) |\n",
       "|tobaccoMinor_smoker                    |1.10 (0.91-1.33, p=0.333) |\n",
       "|tobaccoRegular_smoker                  |0.91 (0.74-1.13, p=0.393) |\n",
       "|alcohol> 150g                          |1.20 (0.94-1.54, p=0.137) |\n",
       "|htaYes                                 |0.93 (0.78-1.10, p=0.384) |\n",
       "|headachesYes                           |0.84 (0.68-1.04, p=0.113) |\n",
       "|diabetesYes                            |0.66 (0.44-0.98, p=0.043) |\n",
       "|dyslipidemiaYes                        |0.64 (0.52-0.78, p<0.001) |\n",
       "|ischemic_stroke_historyYes             |0.23 (0.14-0.35, p<0.001) |\n",
       "|ischemic_heart_disease_historyYes      |0.32 (0.19-0.53, p<0.001) |\n",
       "|pad_historyYes                         |0.56 (0.29-1.01, p=0.062) |\n",
       "|carotid_artery_stenosis_historyYes     |0.67 (0.40-1.08, p=0.107) |\n",
       "|aortic_aneurysm_historyYes             |0.44 (0.10-1.41, p=0.206) |\n",
       "|statin_tttYes                          |0.63 (0.48-0.83, p=0.001) |\n",
       "|platelet_aggregation_inhibiting_tttYes |0.59 (0.46-0.76, p<0.001) |\n",
       "|vka_or_anticoagulant_tttYes            |0.63 (0.38-1.01, p=0.065) |\n",
       "|anti_inflammatory_tttYes               |1.06 (0.63-1.76, p=0.817) |\n",
       "|hormone_therapy_tttYes                 |0.40 (0.22-0.69, p=0.002) |\n",
       "|allergyYes                             |0.89 (0.74-1.09, p=0.261) |\n",
       "|asthmaYes                              |1.07 (0.77-1.47, p=0.686) |\n",
       "|atopyYes                               |0.62 (0.42-0.92, p=0.019) |\n",
       "|eczemaYes                              |0.91 (0.63-1.30, p=0.610) |"
      ]
     },
     "metadata": {},
     "output_type": "display_data"
    }
   ],
   "source": [
    "dependent <- \"rupture\"\n",
    "explanatory <- colnames(ican[,-dim(ican)[2]])\n",
    "res_glm_uni <- ican %>%\n",
    "    glmuni(dependent, explanatory) %>% \n",
    "    fit2df(estimate_suffix=\" (univariate)\")\n",
    "kable(res_glm_uni,row.names=FALSE, align=c(\"l\", \"l\", \"r\", \"r\", \"r\", \"r\"))"
   ]
  },
  {
   "cell_type": "markdown",
   "metadata": {},
   "source": [
    "## Multivariables Logistic Regression"
   ]
  },
  {
   "cell_type": "code",
   "execution_count": 7,
   "metadata": {},
   "outputs": [],
   "source": [
    "fit <- glm(rupture ~ sex + age + tobacco + hta + IA_location + adjusted_size_ratio + multiple_IA + headaches + statin_ttt\n",
    "                      + platelet_aggregation_inhibiting_ttt + hormone_therapy_ttt + allergy, \n",
    "           family = binomial, data = ican)"
   ]
  },
  {
   "cell_type": "code",
   "execution_count": 8,
   "metadata": {},
   "outputs": [
    {
     "name": "stderr",
     "output_type": "stream",
     "text": [
      "Waiting for profiling to be done...\n",
      "\n",
      "Waiting for profiling to be done...\n",
      "\n"
     ]
    }
   ],
   "source": [
    "# Odds Ratio and confidence interval\n",
    "Odds <- as.vector(round(exp(coef(fit)),2))\n",
    "CILow <- as.vector(round(exp(confint(fit)),2)[,1])\n",
    "CIHigh <- as.vector(round(exp(confint(fit)),2)[,2])"
   ]
  },
  {
   "cell_type": "code",
   "execution_count": 9,
   "metadata": {},
   "outputs": [],
   "source": [
    "boxLabels = c(\"(Intercept) \", \"Sex (M) \", \"Age (<50)           50-59 \", \"60-69 \", paste0(\"\\U2265\", \"70 \"), \n",
    "              \"Tobacco (Non-smoker)           Minor smoker \", \"Regular smoker \", \n",
    "              \"HTA (Yes)\" , \"IA location (ICA)           MCA \", \"ACA \", \"PCA \", \n",
    "              paste0(\"Adjusted size ratio (\\U2265\", \"3) \"), \"Multiple IA (Yes) \", \"Headaches (Yes) \", \n",
    "              \"Statin treatment (Yes) \", \"Platelet aggregation inhibiting treatment (Yes) \", \n",
    "              \"Hormone therapy treatment (Yes) \", \"Allergy (Yes) \")"
   ]
  },
  {
   "cell_type": "code",
   "execution_count": 10,
   "metadata": {},
   "outputs": [],
   "source": [
    "df <- data.frame(yAxis = length(boxLabels):1,\n",
    "                 boxOdds = Odds,\n",
    "                 boxCILow = CILow,\n",
    "                 boxCIHigh = CIHigh)"
   ]
  },
  {
   "cell_type": "code",
   "execution_count": 11,
   "metadata": {},
   "outputs": [
    {
     "data": {
      "image/png": "[encoded data removed]",
      "text/plain": [
       "plot without title"
      ]
     },
     "metadata": {
      "image/png": {
       "height": 600,
       "width": 600
      },
      "text/plain": {
       "height": 600,
       "width": 600
      }
     },
     "output_type": "display_data"
    }
   ],
   "source": [
    "options(repr.plot.width = 10, repr.plot.height = 10)\n",
    "\n",
    "p <- ggplot(df, aes(x = boxOdds, y = reorder(boxLabels, yAxis)))\n",
    "\n",
    "p + geom_vline(aes(xintercept = 1), size = 0.5, linetype = \"dashed\") +\n",
    "  geom_errorbarh(aes(xmax = boxCIHigh, xmin = boxCILow), size = 0.6, \n",
    "                 height = 0.5, color = \"gray20\") +\n",
    "  geom_point(size = 6, color = \"orange\") +\n",
    "  theme_bw()  +\n",
    "  scale_x_continuous(breaks = c(1, 2, 3, 4, 5, 6, 7, 8)) +\n",
    "  coord_trans(x = \"log10\") +\n",
    "  ylab(\"\") +\n",
    "  xlab(\"Odds ratio (95% CI)\") +\n",
    "  annotate(geom = \"text\", y =17.5, x = Odds[1], label = Odds[1], size = 5, hjust = 0, col = \"gray20\") +\n",
    "  annotate(geom = \"text\", y =16.5, x = Odds[2], label = Odds[2], size = 5, hjust = 0, col = \"gray20\") +\n",
    "  annotate(geom = \"text\", y =15.5, x = Odds[3], label = Odds[3], size = 5, hjust = 0, col = \"gray20\") +\n",
    "  annotate(geom = \"text\", y =14.5, x = Odds[4], label = Odds[4], size = 5, hjust = 0, col = \"gray20\") +\n",
    "  annotate(geom = \"text\", y =13.5, x = Odds[5], label = Odds[5], size = 5, hjust = 0, col = \"gray20\") +\n",
    "  annotate(geom = \"text\", y =12.5, x = Odds[6], label = Odds[6], size = 5, hjust = 0, col = \"gray20\") +\n",
    "  annotate(geom = \"text\", y =11.5, x = Odds[7], label = Odds[7], size = 5, hjust = 0, col = \"gray20\") +\n",
    "  annotate(geom = \"text\", y =10.5, x = Odds[8], label = Odds[8], size = 5, hjust = 0, col = \"gray20\") +\n",
    "  annotate(geom = \"text\", y =9.5, x = Odds[9], label = Odds[9], size = 5, hjust = 0, col = \"gray20\") +\n",
    "  annotate(geom = \"text\", y =8.5, x = Odds[10], label = Odds[10], size = 5, hjust = 0, col = \"gray20\") +\n",
    "  annotate(geom = \"text\", y =7.5, x = Odds[11], label = Odds[11], size = 5, hjust = 0, col = \"gray20\") +\n",
    "  annotate(geom = \"text\", y =6.5, x = Odds[12], label = Odds[12], size = 5, hjust = 0, col = \"gray20\") +\n",
    "  annotate(geom = \"text\", y =5.5, x = Odds[13], label = Odds[13], size = 5, hjust = 0, col = \"gray20\") +\n",
    "  annotate(geom = \"text\", y =4.5, x = Odds[14], label = Odds[14], size = 5, hjust = 0, col = \"gray20\") +\n",
    "  annotate(geom = \"text\", y =3.5, x = Odds[15], label = Odds[15], size = 5, hjust = 0, col = \"gray20\") +\n",
    "  annotate(geom = \"text\", y =2.5, x = Odds[16], label = Odds[16], size = 5, hjust = 0, col = \"gray20\") +\n",
    "  annotate(geom = \"text\", y =1.5, x = Odds[17], label = Odds[17], size = 5, hjust = 0, col = \"gray20\") +\n",
    "  annotate(geom = \"text\", y =0.5, x = Odds[18], label = Odds[18], size = 5, hjust = 0, col = \"gray20\") +\n",
    "\n",
    "  theme(plot.title = element_text(face = \"bold\", colour = \"gray20\", size = 16, hjust = 0.5),\n",
    "        axis.title.x = element_text(colour = \"gray30\", size = 16, face = \"bold\"),\n",
    "        axis.text.y = element_text(color = \"gray30\", size= 14, face = \"bold\"),\n",
    "        axis.text.x = element_text(color = \"gray20\", size= 16))"
   ]
  }
 ],
 "metadata": {
  "kernelspec": {
   "display_name": "R",
   "language": "R",
   "name": "ir"
  },
  "language_info": {
   "codemirror_mode": "r",
   "file_extension": ".r",
   "mimetype": "text/x-r-source",
   "name": "R",
   "pygments_lexer": "r",
   "version": "3.6.1"
  }
 },
 "nbformat": 4,
 "nbformat_minor": 2
}
