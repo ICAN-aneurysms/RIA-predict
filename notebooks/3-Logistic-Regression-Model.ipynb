{
 "cells": [
  {
   "cell_type": "markdown",
   "metadata": {},
   "source": [
    "# Logitic regression on ICAN clinical data\n",
    "\n",
    "**Objective:** implement a logistic regression model with the ICAN clinical data."
   ]
  },
  {
   "cell_type": "markdown",
   "metadata": {},
   "source": [
    "## Library importation"
   ]
  },
  {
   "cell_type": "code",
   "execution_count": 1,
   "metadata": {},
   "outputs": [
    {
     "name": "stderr",
     "output_type": "stream",
     "text": [
      "\n",
      "Attaching package: 'pls'\n",
      "\n",
      "\n",
      "The following object is masked from 'package:stats':\n",
      "\n",
      "    loadings\n",
      "\n",
      "\n",
      "Loading required package: ggplot2\n",
      "\n"
     ]
    }
   ],
   "source": [
    "library(finalfit)\n",
    "library(knitr)\n",
    "library(pls)\n",
    "library(forestmodel)"
   ]
  },
  {
   "cell_type": "markdown",
   "metadata": {},
   "source": [
    "## Data loading"
   ]
  },
  {
   "cell_type": "code",
   "execution_count": 2,
   "metadata": {},
   "outputs": [
    {
     "data": {
      "text/html": [
       "<ol class=list-inline>\n",
       "\t<li>2505</li>\n",
       "\t<li>28</li>\n",
       "</ol>\n"
      ],
      "text/latex": [
       "\\begin{enumerate*}\n",
       "\\item 2505\n",
       "\\item 28\n",
       "\\end{enumerate*}\n"
      ],
      "text/markdown": [
       "1. 2505\n",
       "2. 28\n",
       "\n",
       "\n"
      ],
      "text/plain": [
       "[1] 2505   28"
      ]
     },
     "metadata": {},
     "output_type": "display_data"
    }
   ],
   "source": [
    "ican <- read.csv(\"simulated_ican_clinical_data.csv\", sep = \"#\", encoding = \"utf8\")\n",
    "ican <- ican[,-c(dim(ican)[2]-1, dim(ican)[2])]\n",
    "dim(ican)"
   ]
  },
  {
   "cell_type": "code",
   "execution_count": 3,
   "metadata": {},
   "outputs": [],
   "source": [
    "adjusted_IA_size_class <- c()\n",
    "for (i in 1:dim(ican)[1]) {\n",
    "    if (ican$adjusted_IA_size[i] < 3) {\n",
    "        adjusted_IA_size_class[i] <- \"<3\"\n",
    "    } else if (ican$adjusted_IA_size[i] <= 5) {\n",
    "        adjusted_IA_size_class[i] <- \"3-5\"\n",
    "    } else if (ican$adjusted_IA_size[i] > 5) {\n",
    "        adjusted_IA_size_class[i] <- \">5\"\n",
    "    } else {\n",
    "        adjusted_IA_size_class[i] <- \"Other\"\n",
    "    }\n",
    "}\n",
    "ican[\"adjusted_IA_size\"] <- as.factor(adjusted_IA_size_class)"
   ]
  },
  {
   "cell_type": "code",
   "execution_count": 4,
   "metadata": {},
   "outputs": [],
   "source": [
    "ican$IA_location <- factor(as.character(ican$IA_location), levels = c(\"ICA\", \"MCA\", \"ACA\", \"PCA\"))\n",
    "ican$packs_year <- factor(as.character(ican$packs_year), levels = c(\"Non-smoker\", \"Little_smoker\", \"Regular_smoker\"))\n",
    "ican$adjusted_IA_size <- factor(as.character(ican$adjusted_IA_size), levels = c(\"<3\", \"3-5\", \">5\"))"
   ]
  },
  {
   "cell_type": "markdown",
   "metadata": {},
   "source": [
    "## Univariable Logistic Regression"
   ]
  },
  {
   "cell_type": "code",
   "execution_count": 5,
   "metadata": {},
   "outputs": [
    {
     "name": "stderr",
     "output_type": "stream",
     "text": [
      "Waiting for profiling to be done...\n",
      "\n",
      "Waiting for profiling to be done...\n",
      "\n",
      "Waiting for profiling to be done...\n",
      "\n",
      "Waiting for profiling to be done...\n",
      "\n",
      "Waiting for profiling to be done...\n",
      "\n",
      "Waiting for profiling to be done...\n",
      "\n",
      "Waiting for profiling to be done...\n",
      "\n",
      "Waiting for profiling to be done...\n",
      "\n",
      "Waiting for profiling to be done...\n",
      "\n",
      "Waiting for profiling to be done...\n",
      "\n",
      "Waiting for profiling to be done...\n",
      "\n",
      "Waiting for profiling to be done...\n",
      "\n",
      "Waiting for profiling to be done...\n",
      "\n",
      "Waiting for profiling to be done...\n",
      "\n",
      "Waiting for profiling to be done...\n",
      "\n",
      "Waiting for profiling to be done...\n",
      "\n",
      "Waiting for profiling to be done...\n",
      "\n",
      "Waiting for profiling to be done...\n",
      "\n",
      "Waiting for profiling to be done...\n",
      "\n",
      "Waiting for profiling to be done...\n",
      "\n",
      "Waiting for profiling to be done...\n",
      "\n",
      "Waiting for profiling to be done...\n",
      "\n",
      "Waiting for profiling to be done...\n",
      "\n",
      "Waiting for profiling to be done...\n",
      "\n",
      "Waiting for profiling to be done...\n",
      "\n",
      "Waiting for profiling to be done...\n",
      "\n",
      "Waiting for profiling to be done...\n",
      "\n"
     ]
    },
    {
     "data": {
      "text/plain": [
       "\n",
       "\n",
       "|explanatory                            |OR (univariate)           |\n",
       "|:--------------------------------------|:-------------------------|\n",
       "|sexM                                   |0.93 (0.78-1.12, p=0.443) |\n",
       "|age                                    |1.00 (1.00-1.01, p=0.492) |\n",
       "|bmi                                    |1.00 (0.98-1.02, p=0.863) |\n",
       "|sporadic_caseYes                       |1.03 (0.84-1.27, p=0.781) |\n",
       "|multiple_IAYes                         |1.04 (0.87-1.23, p=0.681) |\n",
       "|IA_locationMCA                         |0.98 (0.78-1.22, p=0.827) |\n",
       "|IA_locationACA                         |1.04 (0.84-1.29, p=0.731) |\n",
       "|IA_locationPCA                         |0.97 (0.76-1.25, p=0.829) |\n",
       "|adjusted_IA_size3-5                    |1.03 (0.83-1.27, p=0.791) |\n",
       "|adjusted_IA_size>5                     |0.90 (0.72-1.12, p=0.351) |\n",
       "|packs_yearLittle_smoker                |1.08 (0.89-1.32, p=0.413) |\n",
       "|packs_yearRegular_smoker               |1.30 (1.05-1.62, p=0.017) |\n",
       "|alcohol> 150g                          |1.22 (0.95-1.55, p=0.111) |\n",
       "|htaYes                                 |1.01 (0.86-1.19, p=0.898) |\n",
       "|headachesYes                           |1.17 (0.95-1.45, p=0.145) |\n",
       "|diabetesYes                            |0.96 (0.64-1.43, p=0.848) |\n",
       "|dyslipidemiaYes                        |0.89 (0.74-1.08, p=0.259) |\n",
       "|ischemic_stroke_historyYes             |1.24 (0.90-1.69, p=0.180) |\n",
       "|ischemic_heart_disease_historyYes      |0.79 (0.50-1.24, p=0.315) |\n",
       "|pad_historyYes                         |0.63 (0.33-1.15, p=0.148) |\n",
       "|carotid_artery_stenosis_historyYes     |1.36 (0.85-2.16, p=0.190) |\n",
       "|aortic_aneurysm_historyYes             |0.62 (0.09-2.86, p=0.562) |\n",
       "|statin_tttYes                          |0.90 (0.71-1.12, p=0.342) |\n",
       "|platelet_aggregation_inhibiting_tttYes |1.09 (0.87-1.37, p=0.462) |\n",
       "|vka_or_anticoagulant_tttYes            |0.79 (0.49-1.26, p=0.339) |\n",
       "|anti_inflammatory_tttYes               |0.98 (0.61-1.56, p=0.942) |\n",
       "|hormone_therapy_tttYes                 |1.27 (0.78-2.04, p=0.338) |\n",
       "|allergyYes                             |1.01 (0.83-1.22, p=0.926) |\n",
       "|asthmaYes                              |1.09 (0.79-1.50, p=0.592) |\n",
       "|atopyYes                               |0.97 (0.69-1.37, p=0.881) |\n",
       "|eczemaYes                              |1.05 (0.73-1.50, p=0.792) |"
      ]
     },
     "metadata": {},
     "output_type": "display_data"
    }
   ],
   "source": [
    "dependent <- \"rupture\"\n",
    "explanatory <- colnames(ican[,-dim(ican)[2]])\n",
    "res_glm_uni <- ican %>%\n",
    "    glmuni(dependent, explanatory) %>% \n",
    "    fit2df(estimate_suffix=\" (univariate)\")\n",
    "kable(res_glm_uni,row.names=FALSE, align=c(\"l\", \"l\", \"r\", \"r\", \"r\", \"r\"))"
   ]
  },
  {
   "cell_type": "markdown",
   "metadata": {},
   "source": [
    "## Multivariables Logistic Regression"
   ]
  },
  {
   "cell_type": "code",
   "execution_count": 6,
   "metadata": {
    "scrolled": false
   },
   "outputs": [
    {
     "data": {
      "text/plain": [
       "\n",
       "Call:\n",
       "glm(formula = rupture ~ sex + age + adjusted_IA_size + IA_location + \n",
       "    hta + packs_year, family = binomial, data = ican)\n",
       "\n",
       "Deviance Residuals: \n",
       "    Min       1Q   Median       3Q      Max  \n",
       "-1.1307  -1.0015  -0.9524   1.3499   1.5061  \n",
       "\n",
       "Coefficients:\n",
       "                          Estimate Std. Error z value Pr(>|z|)   \n",
       "(Intercept)              -0.660457   0.219343  -3.011   0.0026 **\n",
       "sexM                     -0.070119   0.092030  -0.762   0.4461   \n",
       "age                       0.002442   0.003481   0.701   0.4831   \n",
       "adjusted_IA_size3-5      -0.031762   0.131960  -0.241   0.8098   \n",
       "adjusted_IA_size>5       -0.167309   0.139787  -1.197   0.2313   \n",
       "IA_locationMCA           -0.016509   0.115888  -0.142   0.8867   \n",
       "IA_locationACA            0.106379   0.131604   0.808   0.4189   \n",
       "IA_locationPCA            0.061485   0.152809   0.402   0.6874   \n",
       "htaYes                    0.014228   0.085069   0.167   0.8672   \n",
       "packs_yearLittle_smoker   0.080131   0.099451   0.806   0.4204   \n",
       "packs_yearRegular_smoker  0.259965   0.110732   2.348   0.0189 * \n",
       "---\n",
       "Signif. codes:  0 '***' 0.001 '**' 0.01 '*' 0.05 '.' 0.1 ' ' 1\n",
       "\n",
       "(Dispersion parameter for binomial family taken to be 1)\n",
       "\n",
       "    Null deviance: 3358.4  on 2504  degrees of freedom\n",
       "Residual deviance: 3349.2  on 2494  degrees of freedom\n",
       "AIC: 3371.2\n",
       "\n",
       "Number of Fisher Scoring iterations: 4\n"
      ]
     },
     "metadata": {},
     "output_type": "display_data"
    }
   ],
   "source": [
    "fit1 <- glm(rupture ~ ., data = ican, family = \"binomial\")\n",
    "fit0 <- glm(rupture ~ sex + age + adjusted_IA_size + IA_location + hta + packs_year, \n",
    "            family = binomial, data = ican)\n",
    "summary(fit0)"
   ]
  },
  {
   "cell_type": "code",
   "execution_count": 7,
   "metadata": {
    "scrolled": true
   },
   "outputs": [
    {
     "name": "stdout",
     "output_type": "stream",
     "text": [
      "Start:  AIC=3371.24\n",
      "rupture ~ sex + age + adjusted_IA_size + IA_location + hta + \n",
      "    packs_year\n",
      "\n",
      "                                      Df Deviance    AIC\n",
      "+ alcohol                              1   3346.9 3370.9\n",
      "+ pad_history                          1   3347.1 3371.1\n",
      "+ headaches                            1   3347.2 3371.2\n",
      "<none>                                     3349.2 3371.2\n",
      "+ ischemic_stroke_history              1   3347.4 3371.4\n",
      "+ carotid_artery_stenosis_history      1   3347.6 3371.6\n",
      "+ dyslipidemia                         1   3348.0 3372.0\n",
      "+ vka_or_anticoagulant_ttt             1   3348.3 3372.3\n",
      "+ ischemic_heart_disease_history       1   3348.3 3372.3\n",
      "+ statin_ttt                           1   3348.4 3372.4\n",
      "+ hormone_therapy_ttt                  1   3348.5 3372.5\n",
      "+ platelet_aggregation_inhibiting_ttt  1   3348.7 3372.7\n",
      "+ aortic_aneurysm_history              1   3348.9 3372.9\n",
      "+ asthma                               1   3348.9 3372.9\n",
      "+ multiple_IA                          1   3349.1 3373.1\n",
      "+ sporadic_case                        1   3349.1 3373.1\n",
      "+ eczema                               1   3349.2 3373.2\n",
      "+ bmi                                  1   3349.2 3373.2\n",
      "+ diabetes                             1   3349.2 3373.2\n",
      "+ allergy                              1   3349.2 3373.2\n",
      "+ atopy                                1   3349.2 3373.2\n",
      "+ anti_inflammatory_ttt                1   3349.2 3373.2\n",
      "\n",
      "Step:  AIC=3370.92\n",
      "rupture ~ sex + age + adjusted_IA_size + IA_location + hta + \n",
      "    packs_year + alcohol\n",
      "\n",
      "                                      Df Deviance    AIC\n",
      "+ pad_history                          1   3344.7 3370.7\n",
      "+ headaches                            1   3344.9 3370.9\n",
      "<none>                                     3346.9 3370.9\n",
      "+ ischemic_stroke_history              1   3345.0 3371.0\n",
      "+ carotid_artery_stenosis_history      1   3345.2 3371.2\n",
      "+ dyslipidemia                         1   3345.6 3371.6\n",
      "+ vka_or_anticoagulant_ttt             1   3345.9 3371.9\n",
      "+ ischemic_heart_disease_history       1   3345.9 3371.9\n",
      "+ statin_ttt                           1   3346.1 3372.1\n",
      "+ hormone_therapy_ttt                  1   3346.2 3372.2\n",
      "+ platelet_aggregation_inhibiting_ttt  1   3346.4 3372.4\n",
      "+ aortic_aneurysm_history              1   3346.6 3372.6\n",
      "+ asthma                               1   3346.7 3372.7\n",
      "+ multiple_IA                          1   3346.8 3372.8\n",
      "+ eczema                               1   3346.8 3372.8\n",
      "+ sporadic_case                        1   3346.9 3372.9\n",
      "+ bmi                                  1   3346.9 3372.9\n",
      "+ diabetes                             1   3346.9 3372.9\n",
      "+ allergy                              1   3346.9 3372.9\n",
      "+ atopy                                1   3346.9 3372.9\n",
      "+ anti_inflammatory_ttt                1   3346.9 3372.9\n",
      "\n",
      "Step:  AIC=3370.7\n",
      "rupture ~ sex + age + adjusted_IA_size + IA_location + hta + \n",
      "    packs_year + alcohol + pad_history\n",
      "\n",
      "                                      Df Deviance    AIC\n",
      "+ headaches                            1   3342.6 3370.6\n",
      "+ ischemic_stroke_history              1   3342.6 3370.6\n",
      "<none>                                     3344.7 3370.7\n",
      "+ carotid_artery_stenosis_history      1   3342.9 3370.9\n",
      "+ dyslipidemia                         1   3343.4 3371.4\n",
      "+ vka_or_anticoagulant_ttt             1   3343.7 3371.7\n",
      "+ platelet_aggregation_inhibiting_ttt  1   3343.7 3371.7\n",
      "+ statin_ttt                           1   3343.9 3371.9\n",
      "+ hormone_therapy_ttt                  1   3344.1 3372.1\n",
      "+ ischemic_heart_disease_history       1   3344.2 3372.2\n",
      "+ aortic_aneurysm_history              1   3344.4 3372.4\n",
      "+ asthma                               1   3344.5 3372.5\n",
      "+ multiple_IA                          1   3344.6 3372.6\n",
      "+ eczema                               1   3344.6 3372.6\n",
      "+ bmi                                  1   3344.6 3372.6\n",
      "+ sporadic_case                        1   3344.6 3372.6\n",
      "+ diabetes                             1   3344.7 3372.7\n",
      "+ atopy                                1   3344.7 3372.7\n",
      "+ allergy                              1   3344.7 3372.7\n",
      "+ anti_inflammatory_ttt                1   3344.7 3372.7\n",
      "\n",
      "Step:  AIC=3370.58\n",
      "rupture ~ sex + age + adjusted_IA_size + IA_location + hta + \n",
      "    packs_year + alcohol + pad_history + headaches\n",
      "\n",
      "                                      Df Deviance    AIC\n",
      "+ ischemic_stroke_history              1   3340.4 3370.4\n",
      "<none>                                     3342.6 3370.6\n",
      "+ carotid_artery_stenosis_history      1   3340.8 3370.8\n",
      "+ dyslipidemia                         1   3341.5 3371.5\n",
      "+ platelet_aggregation_inhibiting_ttt  1   3341.5 3371.5\n",
      "+ vka_or_anticoagulant_ttt             1   3341.7 3371.7\n",
      "+ statin_ttt                           1   3342.0 3372.0\n",
      "+ hormone_therapy_ttt                  1   3342.0 3372.0\n",
      "+ ischemic_heart_disease_history       1   3342.1 3372.1\n",
      "+ aortic_aneurysm_history              1   3342.2 3372.2\n",
      "+ asthma                               1   3342.4 3372.4\n",
      "+ eczema                               1   3342.5 3372.5\n",
      "+ multiple_IA                          1   3342.5 3372.5\n",
      "+ bmi                                  1   3342.5 3372.5\n",
      "+ sporadic_case                        1   3342.5 3372.5\n",
      "+ atopy                                1   3342.6 3372.6\n",
      "+ diabetes                             1   3342.6 3372.6\n",
      "+ anti_inflammatory_ttt                1   3342.6 3372.6\n",
      "+ allergy                              1   3342.6 3372.6\n",
      "\n",
      "Step:  AIC=3370.38\n",
      "rupture ~ sex + age + adjusted_IA_size + IA_location + hta + \n",
      "    packs_year + alcohol + pad_history + headaches + ischemic_stroke_history\n",
      "\n",
      "                                      Df Deviance    AIC\n",
      "<none>                                     3340.4 3370.4\n",
      "+ carotid_artery_stenosis_history      1   3338.7 3370.7\n",
      "+ dyslipidemia                         1   3339.2 3371.2\n",
      "+ vka_or_anticoagulant_ttt             1   3339.2 3371.2\n",
      "+ ischemic_heart_disease_history       1   3339.7 3371.7\n",
      "+ statin_ttt                           1   3339.7 3371.7\n",
      "+ hormone_therapy_ttt                  1   3339.9 3371.9\n",
      "+ aortic_aneurysm_history              1   3339.9 3371.9\n",
      "+ platelet_aggregation_inhibiting_ttt  1   3340.1 3372.1\n",
      "+ asthma                               1   3340.2 3372.2\n",
      "+ eczema                               1   3340.2 3372.2\n",
      "+ multiple_IA                          1   3340.3 3372.3\n",
      "+ sporadic_case                        1   3340.3 3372.3\n",
      "+ bmi                                  1   3340.3 3372.3\n",
      "+ diabetes                             1   3340.4 3372.4\n",
      "+ atopy                                1   3340.4 3372.4\n",
      "+ allergy                              1   3340.4 3372.4\n",
      "+ anti_inflammatory_ttt                1   3340.4 3372.4\n"
     ]
    }
   ],
   "source": [
    "tmp <- step(fit0, scope = formula(fit1), direction = \"forward\")"
   ]
  },
  {
   "cell_type": "code",
   "execution_count": 8,
   "metadata": {},
   "outputs": [
    {
     "data": {
      "text/plain": [
       "\n",
       "Call:\n",
       "glm(formula = tmp$call, family = \"binomial\", data = ican)\n",
       "\n",
       "Deviance Residuals: \n",
       "    Min       1Q   Median       3Q      Max  \n",
       "-1.2466  -1.0086  -0.9373   1.3356   1.6710  \n",
       "\n",
       "Coefficients:\n",
       "                            Estimate Std. Error z value Pr(>|z|)    \n",
       "(Intercept)                -0.734936   0.222086  -3.309 0.000936 ***\n",
       "sexM                       -0.068223   0.092190  -0.740 0.459284    \n",
       "age                         0.002445   0.003489   0.701 0.483490    \n",
       "adjusted_IA_size3-5        -0.025449   0.132181  -0.193 0.847324    \n",
       "adjusted_IA_size>5         -0.149652   0.140205  -1.067 0.285799    \n",
       "IA_locationMCA             -0.007495   0.116149  -0.065 0.948548    \n",
       "IA_locationACA              0.105860   0.131824   0.803 0.421953    \n",
       "IA_locationPCA              0.065514   0.153144   0.428 0.668801    \n",
       "htaYes                      0.030372   0.085693   0.354 0.723022    \n",
       "packs_yearLittle_smoker     0.082604   0.099664   0.829 0.407203    \n",
       "packs_yearRegular_smoker    0.260647   0.110947   2.349 0.018810 *  \n",
       "alcohol> 150g               0.197229   0.124437   1.585 0.112974    \n",
       "pad_historyYes             -0.499066   0.322072  -1.550 0.121250    \n",
       "headachesYes                0.163650   0.109945   1.488 0.136624    \n",
       "ischemic_stroke_historyYes  0.238607   0.160378   1.488 0.136809    \n",
       "---\n",
       "Signif. codes:  0 '***' 0.001 '**' 0.01 '*' 0.05 '.' 0.1 ' ' 1\n",
       "\n",
       "(Dispersion parameter for binomial family taken to be 1)\n",
       "\n",
       "    Null deviance: 3358.4  on 2504  degrees of freedom\n",
       "Residual deviance: 3340.4  on 2490  degrees of freedom\n",
       "AIC: 3370.4\n",
       "\n",
       "Number of Fisher Scoring iterations: 4\n"
      ]
     },
     "metadata": {},
     "output_type": "display_data"
    }
   ],
   "source": [
    "fit <- glm(tmp$call, data = ican, family = \"binomial\")\n",
    "summary(fit) "
   ]
  },
  {
   "cell_type": "code",
   "execution_count": 9,
   "metadata": {},
   "outputs": [
    {
     "name": "stderr",
     "output_type": "stream",
     "text": [
      "Warning message in recalculate_width_panels(panel_positions, mapped_text = mapped_text, :\n",
      "\"Unable to resize forest panel to be smaller than its heading; consider a smaller text size\"\n",
      "Warning message:\n",
      "\"Ignoring unknown aesthetics: x\"\n"
     ]
    },
    {
     "data": {
      "image/png": "[encoded data removed]",
      "text/plain": [
       "plot without title"
      ]
     },
     "metadata": {
      "image/png": {
       "height": 720,
       "width": 720
      },
      "text/plain": {
       "height": 720,
       "width": 720
      }
     },
     "output_type": "display_data"
    }
   ],
   "source": [
    "options(repr.plot.width = 12, repr.plot.height = 12)\n",
    "forest_model(fit, format_options = list(colour = \"black\", shape = 20, text_size = 5, banded = TRUE))"
   ]
  }
 ],
 "metadata": {
  "kernelspec": {
   "display_name": "R",
   "language": "R",
   "name": "ir"
  },
  "language_info": {
   "codemirror_mode": "r",
   "file_extension": ".r",
   "mimetype": "text/x-r-source",
   "name": "R",
   "pygments_lexer": "r",
   "version": "3.6.1"
  }
 },
 "nbformat": 4,
 "nbformat_minor": 2
}
